{
 "cells": [
  {
   "cell_type": "markdown",
   "id": "ae0c79aa-55ce-4c05-9c88-fb4dc0617a9f",
   "metadata": {},
   "source": [
    "# Controles de flujo\n",
    "\n",
    "## Condicionales\n",
    "\n",
    "### Declaraciones if\n",
    "Los condicionales se usan para ejecutar bloques de código únicamente si alguna condición es verdadera. La forma más simple es verificar una única condición y hacer algo si resulta verdader. La sintaxis básica es la siguiente:\n",
    "\n",
    "```py\n",
    "if <condition>:\n",
    "    <if-block>\n",
    "```\n",
    "\n",
    "Se puede usar para verificar si un número tiene un valor específico:"
   ]
  },
  {
   "cell_type": "code",
   "execution_count": 1,
   "id": "73b8d4f3-f5d2-46ab-95ce-bdf91fdfa8b2",
   "metadata": {},
   "outputs": [
    {
     "name": "stdout",
     "output_type": "stream",
     "text": [
      "El número 0 es igual a 0.0\n"
     ]
    }
   ],
   "source": [
    "#- Definiendo un número\n",
    "number = 0\n",
    "if number == 0.0:\n",
    "    print(f\"El número {number} es igual a 0.0\")"
   ]
  },
  {
   "cell_type": "markdown",
   "id": "50900332-41be-4332-82e5-af2baaad9486",
   "metadata": {},
   "source": [
    "### Declaraciones if-else\n",
    "Se puede agregar un `else` si la condición resulta ser falsa. La sintaxis es la siguiente:\n",
    "```py\n",
    "if <condition>:\n",
    "    <if-block>\n",
    "    \n",
    "else:\n",
    "    <else-block>\n",
    "```\n",
    "\n",
    "Por ejemplo, para verificar si un número es par o impar:"
   ]
  },
  {
   "cell_type": "code",
   "execution_count": 2,
   "id": "4e9a489f-53e3-4651-8f8d-b57dd6274539",
   "metadata": {},
   "outputs": [
    {
     "name": "stdout",
     "output_type": "stream",
     "text": [
      "El número 8 es par.\n"
     ]
    }
   ],
   "source": [
    "#- Definiendo el número\n",
    "number = 8\n",
    "\n",
    "#- Comprobando si es par o impar\n",
    "if number % 2 == 0:\n",
    "    result = \"par\"\n",
    "else:\n",
    "    result = \"impar\"\n",
    "\n",
    "# Print the result\n",
    "print(f\"El número {number} es {result}.\")"
   ]
  },
  {
   "cell_type": "markdown",
   "id": "332f4581-2593-4086-b91f-43ef669cab69",
   "metadata": {},
   "source": [
    "\n",
    "### Declaraciones if-elif-else\n",
    "Se pueden verificar varias condicones con ayuda de un bloque de `if-elif-else`. La sintaxis es:\n",
    "```py\n",
    "if <condition>:\n",
    "    <if-block>\n",
    "    \n",
    "elif <condition>:\n",
    "    <elif-block1>\n",
    "    \n",
    "elif <condition>:\n",
    "    <elif-block2>\n",
    "    \n",
    "else:\n",
    "    <else-block>\n",
    "```\n",
    "El siguiente ejemplo muestra cómo usar esta sintaxis para clasificar a una partícula fundamental de acuerdo a su masa usando esta sintaxis:"
   ]
  },
  {
   "cell_type": "code",
   "execution_count": 3,
   "id": "d3b7c9d9-67f4-4992-acd9-958ce7054188",
   "metadata": {},
   "outputs": [
    {
     "name": "stdout",
     "output_type": "stream",
     "text": [
      "La partícula con masa 6.0 GeV/c^2 es un Barión.\n"
     ]
    }
   ],
   "source": [
    "#- Masa de la partícula hipotética\n",
    "mass = float(input(\"Ingrese un valor de masa\"))  # en GeV/c^2\n",
    "\n",
    "#- Clasificación basada en su masa\n",
    "if mass < 0.1:\n",
    "    classification = \"Mesón Ligero\"\n",
    "elif 0.1 <= mass < 1.0:\n",
    "    classification = \"Mesón Pesado\"\n",
    "elif 1.0 <= mass < 10.0:\n",
    "    classification = \"Barión\"\n",
    "else:\n",
    "    classification = \"Partícula Exótica\"\n",
    "  \n",
    "#- Mostrar su classificación\n",
    "print(f\"La partícula con masa {mass} GeV/c^2 es un {classification}.\")"
   ]
  },
  {
   "cell_type": "markdown",
   "id": "2410d0fa-30b0-457c-887b-5e22b06f1895",
   "metadata": {},
   "source": [
    "### Expresiones if-else\n",
    "\n",
    "Para finalizar con los condicionales, es posible aplicar la sintaxis if-else en una simple expresión de una línea (sin los bloques de sangría). Se necesita de tres elementos y por lo tanto se le conoce como un operador condicional ternario. La sintaxis es la siguiente:\n",
    "\n",
    "```py\n",
    "x if <condition> else y\n",
    "```\n",
    "\n",
    "Esta sintaxis se usa en el siguiente ejemplo:"
   ]
  },
  {
   "cell_type": "code",
   "execution_count": 4,
   "id": "d4bc5b3c-c28e-4a67-abd6-f7975246d5cf",
   "metadata": {},
   "outputs": [
    {
     "name": "stdout",
     "output_type": "stream",
     "text": [
      "El número 5 es positivo.\n"
     ]
    }
   ],
   "source": [
    "#-Definiendo un número\n",
    "number = 5\n",
    "\n",
    "#- Comprobar si es positivo o negativo y guardar el resultado\n",
    "result = \"positivo\" if number > 0 else \"negativo\"\n",
    "\n",
    "#- Mostrar el resultado\n",
    "print(f\"El número {number} es {result}.\")"
   ]
  },
  {
   "cell_type": "code",
   "execution_count": 5,
   "id": "4d313b11-74c2-4ccb-8eaf-61a1bb179b67",
   "metadata": {},
   "outputs": [
    {
     "name": "stdout",
     "output_type": "stream",
     "text": [
      "El número 4 es par.\n"
     ]
    }
   ],
   "source": [
    "numero = 4\n",
    "\n",
    "resultado = \"par\" if numero % 2 == 0 else \"impar\"\n",
    "\n",
    "print(f\"El número {numero} es {resultado}.\")"
   ]
  },
  {
   "cell_type": "markdown",
   "id": "f8807cc7-c567-4c32-9506-412829c26827",
   "metadata": {},
   "source": [
    "## Bucles\n",
    "Los bucles permiten que el mismo bloque se ejecute muchas veces dependiendo si una condición es verdadera. \n",
    "\n",
    "### Bucles while\n",
    "La sintaxis de un bucle `while` es la siguiente:\n",
    "```py\n",
    "while <condition>:\n",
    "    <while-block>\n",
    "```\n",
    "\n",
    "Por ejemplo se puede usar para crear una cuenta regresiva:"
   ]
  },
  {
   "cell_type": "code",
   "execution_count": 6,
   "id": "7c9e1b5e-6270-4746-a48d-8ee693232381",
   "metadata": {},
   "outputs": [
    {
     "name": "stdout",
     "output_type": "stream",
     "text": [
      "5\n",
      "4\n",
      "3\n",
      "2\n",
      "1\n",
      "0\n",
      "¡Fin!\n"
     ]
    }
   ],
   "source": [
    "#- Número inicial\n",
    "count = 5\n",
    "\n",
    "#- Cuenta regresiva\n",
    "while count >= 0:\n",
    "    print(count)\n",
    "    count -= 1\n",
    "\n",
    "print(\"¡Fin!\")  # Se muestra cuando el bucle termina"
   ]
  },
  {
   "cell_type": "markdown",
   "id": "5f1ecbad-626b-43ea-aad0-0bc42147a93b",
   "metadata": {},
   "source": [
    "También es posible terminar con el bucle `while` en cualquier momento, haciendo uso de la instrucción `break`. Por ejemplo, si quisiéramos encontrar el primer número par de una lista, podríamos hacerlo con el bucle `while` de la siguiente manera:"
   ]
  },
  {
   "cell_type": "code",
   "execution_count": 7,
   "id": "3d200728-f24e-422e-bc53-68db554ea574",
   "metadata": {},
   "outputs": [
    {
     "name": "stdout",
     "output_type": "stream",
     "text": [
      "No hay números pares en la lista.\n"
     ]
    }
   ],
   "source": [
    "#- Lista de números\n",
    "numbers = [3, 7, 11, 5, 9, 13, 15]\n",
    "\n",
    "#- Variable para guardar el número par\n",
    "first_even = None\n",
    "\n",
    "#- Bucle while \n",
    "index = 0\n",
    "while index < len(numbers):\n",
    "    if numbers[index] % 2 == 0:\n",
    "        first_even = numbers[index]\n",
    "        break  # El bucle termina al encontrar el primer número par\n",
    "    index += 1\n",
    "\n",
    "#- Imprime el valor encontrado\n",
    "if first_even is not None:\n",
    "    print(f\"El primer número par encontrado fue {first_even}.\")\n",
    "else:\n",
    "    print(\"No hay números pares en la lista.\")"
   ]
  },
  {
   "cell_type": "markdown",
   "id": "b042dcd7-2909-4716-8402-588d8a37330b",
   "metadata": {},
   "source": [
    "### Bucle for\n",
    "Los bucles `for` permiten iterar sobre todos los tipos de contenedores (como las listas, tuplas, conjuntos y diccionarios) o algún otro tipo de variable iterable (como las cadenas de caracteres). \n",
    "\n",
    "La sintaxis para los bucles `for` es la siguiente:\n",
    "```py\n",
    "for <variable> in <iterable>:\n",
    "    <for-block>\n",
    "```\n",
    "\n",
    "Por ejemplo, para crear la cuenta regresiva se hace de la siguiente manera:"
   ]
  },
  {
   "cell_type": "code",
   "execution_count": 8,
   "id": "edeac7c4-6497-420e-8b7e-5cc54de53141",
   "metadata": {},
   "outputs": [
    {
     "name": "stdout",
     "output_type": "stream",
     "text": [
      "5\n",
      "4\n",
      "3\n",
      "2\n",
      "1\n",
      "¡Fin!\n"
     ]
    }
   ],
   "source": [
    "for count in [5,4,3,2,1]:\n",
    "    print(count)\n",
    "    \n",
    "print(\"¡Fin!\")"
   ]
  },
  {
   "cell_type": "markdown",
   "id": "7a8b48a6",
   "metadata": {},
   "source": [
    "Existen dos formas de recorrer todos los elementos de una lista.\n",
    "La primera es la misma de la celda de código anterior. Por ejemplo:"
   ]
  },
  {
   "cell_type": "code",
   "execution_count": 9,
   "id": "3538bab7",
   "metadata": {},
   "outputs": [
    {
     "name": "stdout",
     "output_type": "stream",
     "text": [
      "1\n",
      "3\n",
      "5\n",
      "7\n",
      "9\n"
     ]
    }
   ],
   "source": [
    "odd_numbers = [1, 3, 5, 7, 9]\n",
    "\n",
    "#- Itera sobre cada elemento\n",
    "for num in odd_numbers:\n",
    "\n",
    "    #- Accede a cada elemento de la lista\n",
    "    print(num)"
   ]
  },
  {
   "cell_type": "markdown",
   "id": "6736d6c4",
   "metadata": {},
   "source": [
    "La segunda consiste en utilizar los índices de la lista y usar la función `range()` junto con la función `len()`:"
   ]
  },
  {
   "cell_type": "code",
   "execution_count": 10,
   "id": "cab38be3",
   "metadata": {},
   "outputs": [
    {
     "name": "stdout",
     "output_type": "stream",
     "text": [
      "1\n",
      "3\n",
      "5\n",
      "7\n",
      "9\n"
     ]
    }
   ],
   "source": [
    "#- Itera sobre los índices de cada elemento\n",
    "for index in range(len(odd_numbers)):\n",
    "    \n",
    "    #- Accede a cada elemento de la lista mediante su índice\n",
    "    print(odd_numbers[index])"
   ]
  },
  {
   "cell_type": "markdown",
   "id": "d99b3794",
   "metadata": {},
   "source": [
    "Ambas expresiones son equivalentes. La diferencia es que el método de índices permite modificar los elementos si es que se necesita:"
   ]
  },
  {
   "cell_type": "code",
   "execution_count": 11,
   "id": "43c945f1",
   "metadata": {},
   "outputs": [
    {
     "name": "stdout",
     "output_type": "stream",
     "text": [
      "[1, 3, 11, 7, 9]\n"
     ]
    }
   ],
   "source": [
    "for index in range(len(odd_numbers)):\n",
    "\n",
    "    #- Modifica el elemento en la posición 2\n",
    "    if index == 2:\n",
    "        odd_numbers[index] = 11\n",
    "\n",
    "print(odd_numbers)"
   ]
  },
  {
   "cell_type": "markdown",
   "id": "7bcc5fe0-b966-4657-8b2c-32463fbd61b1",
   "metadata": {},
   "source": [
    "La instrucción `break` también se puede usar con los bucles `for`, y funcionan de la misma manera. Adicionalmente, también es posible utilizar la instrucción `continue`, que ignora el bloque de código únicamente en la iteración actual y luego continua con la siguiente. Por ejemplo, el siguiente ejemplo muestra cómo ignorar los números impares en una lista:"
   ]
  },
  {
   "cell_type": "code",
   "execution_count": 12,
   "id": "6eeb5ef5-a334-4806-90d5-de057a7e8091",
   "metadata": {},
   "outputs": [
    {
     "name": "stdout",
     "output_type": "stream",
     "text": [
      "2\n",
      "4\n",
      "6\n",
      "8\n",
      "¡Listo!\n"
     ]
    }
   ],
   "source": [
    "for num in [1, 2, 3, 4, 5, 6, 7, 8, 9]:\n",
    "    if num % 2 != 0:\n",
    "        continue  # Ignorar y continuar con la siguiente iteración\n",
    "    print(num)\n",
    "\n",
    "print(\"¡Listo!\")"
   ]
  },
  {
   "cell_type": "markdown",
   "id": "a33c0d64",
   "metadata": {},
   "source": [
    "Para iterar sobre los elementos de una lista previamente definida:"
   ]
  },
  {
   "cell_type": "code",
   "execution_count": 13,
   "id": "b9e3e51f-53bf-4f5f-9015-65277fc68588",
   "metadata": {},
   "outputs": [
    {
     "name": "stdout",
     "output_type": "stream",
     "text": [
      "a\n",
      "b\n",
      "c\n",
      "d\n",
      "e\n"
     ]
    }
   ],
   "source": [
    "lista = ['a', 'b', 'c', 'd', 'e']\n",
    "for letter in lista:\n",
    "    print(letter)"
   ]
  },
  {
   "cell_type": "code",
   "execution_count": null,
   "id": "b0c0bdd1-8714-4673-83a8-d60526dce9a7",
   "metadata": {},
   "outputs": [],
   "source": []
  },
  {
   "cell_type": "markdown",
   "id": "5b870ecc-bb07-453e-9ef0-a0029753aa08",
   "metadata": {},
   "source": [
    "Para iterar sobre una cadena de caracteres:"
   ]
  },
  {
   "cell_type": "code",
   "execution_count": 14,
   "id": "1ff33550-caa4-4fd9-b345-9eb1a57d2f47",
   "metadata": {},
   "outputs": [
    {
     "name": "stdout",
     "output_type": "stream",
     "text": [
      "O\n",
      "b\n",
      "s\n",
      "e\n",
      "r\n",
      "v\n",
      "a\n",
      "t\n",
      "o\n",
      "r\n",
      "i\n",
      "o\n",
      " \n",
      "M\n",
      "i\n",
      "c\n",
      "r\n",
      "o\n",
      "-\n",
      "M\n",
      "a\n",
      "c\n",
      "r\n",
      "o\n"
     ]
    }
   ],
   "source": [
    "for letter in \"Observatorio Micro-Macro\":\n",
    "    print(letter)"
   ]
  },
  {
   "cell_type": "markdown",
   "id": "efc4ba9b-9d21-48d5-86d2-889c925dd8f5",
   "metadata": {},
   "source": [
    "Se puede iterar sobre los conjuntos, pero recuerda que son contenedores no ordenados:"
   ]
  },
  {
   "cell_type": "code",
   "execution_count": 15,
   "id": "7bdcebed-ee97-486c-ba47-3a629df3753e",
   "metadata": {},
   "outputs": [
    {
     "name": "stdout",
     "output_type": "stream",
     "text": [
      "e\n",
      "c\n",
      "b\n",
      "d\n",
      "a\n",
      "f\n"
     ]
    }
   ],
   "source": [
    "# Loop through keys\n",
    "for key in {'a', 'b', 'c', 'd', 'e', 'f'}:\n",
    "    print(key)"
   ]
  },
  {
   "cell_type": "markdown",
   "id": "fa9cd240-e177-47b2-83c1-f91e8777318b",
   "metadata": {},
   "source": [
    "Puedes iterar sobre las claves y valores de los diccionarios:"
   ]
  },
  {
   "cell_type": "code",
   "execution_count": 16,
   "id": "f692ff75-4eea-4e36-8d61-ebb165b8f57d",
   "metadata": {},
   "outputs": [
    {
     "name": "stdout",
     "output_type": "stream",
     "text": [
      "{'a': 1, 'b': 2, 'c': 3}\n"
     ]
    }
   ],
   "source": [
    "#- Definiendo un diccionario\n",
    "d = {'a': 1, 'b': 2, 'c': 3}\n",
    "print(d)"
   ]
  },
  {
   "cell_type": "code",
   "execution_count": 17,
   "id": "9fcece88-7d33-4b0a-a15a-3860ca12d313",
   "metadata": {},
   "outputs": [
    {
     "name": "stdout",
     "output_type": "stream",
     "text": [
      "Keys:\n",
      "a\n",
      "b\n",
      "c\n",
      "===========\n"
     ]
    }
   ],
   "source": [
    "#- iterar sobre los keys\n",
    "print(\"Keys:\")\n",
    "for key in d.keys():\n",
    "    print(key)\n",
    "print(\"===========\")"
   ]
  },
  {
   "cell_type": "code",
   "execution_count": 18,
   "id": "0cbdf84b-2b4e-4550-803e-7ea530f1f697",
   "metadata": {},
   "outputs": [
    {
     "name": "stdout",
     "output_type": "stream",
     "text": [
      "Values:\n",
      "1\n",
      "2\n",
      "3\n",
      "===========\n"
     ]
    }
   ],
   "source": [
    "#- Iterar sobre los values\n",
    "print(\"Values:\")\n",
    "for value in d.values():\n",
    "    print(value)\n",
    "print(\"===========\")"
   ]
  },
  {
   "cell_type": "code",
   "execution_count": 19,
   "id": "64c0428e-903d-4e97-a821-8843f94c8dde",
   "metadata": {},
   "outputs": [
    {
     "name": "stdout",
     "output_type": "stream",
     "text": [
      "Items\n",
      "Key: a, Value: 1\n",
      "Key: b, Value: 2\n",
      "Key: c, Value: 3\n"
     ]
    }
   ],
   "source": [
    "#Iterar sobre los pares key-value\n",
    "print(\"Items\")\n",
    "for key, value in d.items():\n",
    "    print(f\"Key: {key}, Value: {value}\")"
   ]
  },
  {
   "cell_type": "markdown",
   "id": "0b6fc364-4a5f-4eff-bccd-d74413331c07",
   "metadata": {},
   "source": [
    "### Contenedores por comprensión\n",
    "\n",
    "Puedes crear contenedores usando el ciclo for de dos formas:\n",
    "1. Una forma poco eficiente\n",
    "2. Usando contenedores por comprensión\n",
    "\n",
    "Para explicar ambas, necesitamos primero crear una lista:"
   ]
  },
  {
   "cell_type": "code",
   "execution_count": 20,
   "id": "44303093-f0db-4d47-87c0-e2a4e020469b",
   "metadata": {},
   "outputs": [
    {
     "data": {
      "text/plain": [
       "['mercurio', 'venus', 'tierra', 'marte']"
      ]
     },
     "execution_count": 20,
     "metadata": {},
     "output_type": "execute_result"
    }
   ],
   "source": [
    "#- Lista con planetas\n",
    "planetas = ['mercurio', 'venus', 'tierra', 'marte']\n",
    "planetas"
   ]
  },
  {
   "cell_type": "markdown",
   "id": "efa20d3f",
   "metadata": {},
   "source": [
    "Ahora veamos el método poco eficiente. Para eso necesitamos una lista vacía:"
   ]
  },
  {
   "cell_type": "code",
   "execution_count": 21,
   "id": "19c4dd4e-e1d1-45a1-8af4-4706dccf2dcb",
   "metadata": {},
   "outputs": [
    {
     "data": {
      "text/plain": [
       "[]"
      ]
     },
     "execution_count": 21,
     "metadata": {},
     "output_type": "execute_result"
    }
   ],
   "source": [
    "#- Lista vacía\n",
    "planetas_mayus = []\n",
    "planetas_mayus"
   ]
  },
  {
   "cell_type": "markdown",
   "id": "000d221c-6e5b-4d21-a31e-226841c0832c",
   "metadata": {},
   "source": [
    "Vamos a usar el ciclo `for` junto con el método  `upper()` sobre cada elemento de la lista `planetas` para cambiar las letras a mayúsculas y luego anexarlas a la lista `planetas_mayus`:"
   ]
  },
  {
   "cell_type": "code",
   "execution_count": 22,
   "id": "5418bc13-9d9d-44ab-8355-1fcc7aeb39ef",
   "metadata": {},
   "outputs": [
    {
     "data": {
      "text/plain": [
       "['MERCURIO', 'VENUS', 'TIERRA', 'MARTE']"
      ]
     },
     "execution_count": 22,
     "metadata": {},
     "output_type": "execute_result"
    }
   ],
   "source": [
    "for planet in planetas:\n",
    "    planetas_mayus.append(planet.upper())\n",
    "\n",
    "planetas_mayus"
   ]
  },
  {
   "cell_type": "markdown",
   "id": "eab3d2c3-445d-4196-94e5-3c64c68c1796",
   "metadata": {},
   "source": [
    "Lo anterior puede realizarse de manera equivalente en una sola línea gracias a la sintaxis de contenedores por comprensión, que puede aplicarse tanto a listas como a diccionarios. La sintaxis en cada caso es:\n",
    "\n",
    "```py\n",
    "# Lista por comprensión\n",
    "[<expr> for <loop-var> in <iterable>]\n",
    "\n",
    "# Diccionario por comprensión\n",
    "{<key-expr>: <value-expr> for <loop-var> in <iterable>}\n",
    "```"
   ]
  },
  {
   "cell_type": "markdown",
   "id": "427910d0-39cf-4789-b4b3-772278020d63",
   "metadata": {},
   "source": [
    "Así, volviendo al ejemplo de los planetas, se puede crear la lista de la siguiente manera:"
   ]
  },
  {
   "cell_type": "code",
   "execution_count": 23,
   "id": "b4c22853-11d0-483c-89b0-d79ec41defb0",
   "metadata": {},
   "outputs": [
    {
     "data": {
      "text/plain": [
       "['MERCURIO', 'VENUS', 'TIERRA', 'MARTE']"
      ]
     },
     "execution_count": 23,
     "metadata": {},
     "output_type": "execute_result"
    }
   ],
   "source": [
    "planetas_mayus_2 = [planet.upper() for planet in planetas]\n",
    "planetas_mayus_2 "
   ]
  },
  {
   "cell_type": "markdown",
   "id": "0f1eef79-bdeb-4a48-96bc-e30cded67c21",
   "metadata": {},
   "source": [
    "Para el caso de un diccionario, supongamos que tenemos una lista de números y queremos crear una nueva lista con el cuadrado de esos números, entonces:"
   ]
  },
  {
   "cell_type": "code",
   "execution_count": 24,
   "id": "2655f8bc-35a9-4db3-b7c0-7b77b99b3217",
   "metadata": {},
   "outputs": [
    {
     "data": {
      "text/plain": [
       "{1: 1, 10: 100, 12.5: 156.25, 65: 4225, 88: 7744}"
      ]
     },
     "execution_count": 24,
     "metadata": {},
     "output_type": "execute_result"
    }
   ],
   "source": [
    "numbers = [1, 10, 12.5, 65, 88]\n",
    "results = {x: x**2 for x in numbers}\n",
    "\n",
    "results"
   ]
  },
  {
   "cell_type": "markdown",
   "id": "a32a9c65-69de-4521-8043-69c64bcf5ff0",
   "metadata": {},
   "source": [
    "También es posible realizar filtros a los contenedores por comprensión, con ayuda de condicionales. La sintaxis es la siguiente:\n",
    "```py\n",
    "# Lista por comprensión con filtro\n",
    "[<expr> for <loop-var> in <iterable> if <condition>]\n",
    "\n",
    "# Diccionario por comprensión con filtro\n",
    "{<key-expr>: <value-expr> for <loop-var> in <iterable> if <condition>}\n",
    "```\n",
    "\n",
    "En este caso, si la condición resulta ser verdadera, entonces se agrega el elemento actual, en caso contrario se ignora y se evalúa el siguiente iterable. En este último ejemplo, se creará una lista con los planetas escritos en mayúscula si el nombre inicia con \"m\", y se calcularán los cuadrados de los números si el número es par:"
   ]
  },
  {
   "cell_type": "code",
   "execution_count": 25,
   "id": "11ffeeb4-7841-4c56-b18b-0fcce7c6e4db",
   "metadata": {},
   "outputs": [
    {
     "name": "stdout",
     "output_type": "stream",
     "text": [
      "['MERCURIO', 'MARTE']\n"
     ]
    }
   ],
   "source": [
    "#- Planetas que inician con M\n",
    "planetas_with_m = [planet.upper() for planet in planetas if planet[0] == 'm']\n",
    "print(planetas_with_m)"
   ]
  },
  {
   "cell_type": "code",
   "execution_count": 26,
   "id": "3adc752a-48a2-4e2a-b5ab-2883c3d96ef3",
   "metadata": {},
   "outputs": [
    {
     "name": "stdout",
     "output_type": "stream",
     "text": [
      "{10: 100, 88: 7744}\n"
     ]
    }
   ],
   "source": [
    "#- Cuadrado de números pares\n",
    "results_even = {x: x**2 for x in numbers if x%2 ==0}\n",
    "print(results_even)"
   ]
  },
  {
   "cell_type": "markdown",
   "id": "72f59264",
   "metadata": {},
   "source": [
    "## Ejercicios\n",
    "1. Determina si un número es negativo, positivo o cero:\n",
    "    * Pide al usuario que ingrese un número.\n",
    "    * Si el número es positivo, imprime \"El número es positivo\".\n",
    "    * Si el número es negativo, imprime \"El número es negativo\".\n",
    "    * Si el número es 0, imprime \"El número es cero\"."
   ]
  },
  {
   "cell_type": "code",
   "execution_count": null,
   "id": "002be7b2",
   "metadata": {},
   "outputs": [],
   "source": []
  },
  {
   "cell_type": "markdown",
   "id": "7e097351",
   "metadata": {},
   "source": [
    "2. Pide al usuario que ingrese su edad y clasificala:\n",
    "    * Si la edad es menor que 12, imprime \"Eres un niño\".\n",
    "    * Si la edad está entre 12 y 18, imprime \"Eres un adolescente\".\n",
    "    * Si la edad es mayor que 18, imprime \"Eres un adulto\"."
   ]
  },
  {
   "cell_type": "code",
   "execution_count": null,
   "id": "19e93e9e",
   "metadata": {},
   "outputs": [],
   "source": []
  },
  {
   "cell_type": "markdown",
   "id": "a9420860",
   "metadata": {},
   "source": [
    "3. Calcular el descuento en una compra:\n",
    "    * Pide al usuario que ingrese el total de su compra.\n",
    "    * Si el total es mayor de $100, aplica un descuento del 10% y muestra el total con descuento.\n",
    "    * Si el total es menor o igual a $100, no se aplica descuento."
   ]
  },
  {
   "cell_type": "code",
   "execution_count": null,
   "id": "d512cc27",
   "metadata": {},
   "outputs": [],
   "source": []
  },
  {
   "cell_type": "markdown",
   "id": "aa8ddbe1",
   "metadata": {},
   "source": [
    "4. Comparar dos números:\n",
    "    * Pide al usuario que ingrese dos números.\n",
    "    * Imprime cuál de los dos números es el mayor."
   ]
  },
  {
   "cell_type": "code",
   "execution_count": null,
   "id": "70c290a9",
   "metadata": {},
   "outputs": [],
   "source": []
  },
  {
   "cell_type": "markdown",
   "id": "9ab8e69a",
   "metadata": {},
   "source": [
    "5. Repite el ejercicio anterior pero ahora usando tres números."
   ]
  },
  {
   "cell_type": "code",
   "execution_count": null,
   "id": "5d0db879",
   "metadata": {},
   "outputs": [],
   "source": []
  },
  {
   "cell_type": "markdown",
   "id": "730718d5",
   "metadata": {},
   "source": [
    "6. Pide al usuario que ingrese un número y verifica si es primo e imprime el resultado."
   ]
  },
  {
   "cell_type": "code",
   "execution_count": null,
   "id": "91fe9f4d",
   "metadata": {},
   "outputs": [],
   "source": []
  },
  {
   "cell_type": "markdown",
   "id": "d5672500",
   "metadata": {},
   "source": [
    "7. Utiliza un bucle while que imprima los números del 1 al 10."
   ]
  },
  {
   "cell_type": "code",
   "execution_count": null,
   "id": "4c255d16",
   "metadata": {},
   "outputs": [],
   "source": []
  },
  {
   "cell_type": "markdown",
   "id": "6688f131",
   "metadata": {},
   "source": [
    "8. Usa un ciclo `for` para sumar los primeros 100 números naturales y muestra el resultado."
   ]
  },
  {
   "cell_type": "code",
   "execution_count": null,
   "id": "4f8ddb7d",
   "metadata": {},
   "outputs": [],
   "source": []
  },
  {
   "cell_type": "markdown",
   "id": "74d2dae7",
   "metadata": {},
   "source": [
    "9. Usa un bucle `for` para sumar todos los números pares que se encuentren entre el 1 y el 100 y muestra el resultado final."
   ]
  },
  {
   "cell_type": "code",
   "execution_count": null,
   "id": "7736753f",
   "metadata": {},
   "outputs": [],
   "source": []
  },
  {
   "cell_type": "markdown",
   "id": "e5b0632a",
   "metadata": {},
   "source": [
    "10. Multiplicar los números de una lista por 2:\n",
    "    * Crea una lista de números [1, 2, 3, 4, 5].\n",
    "    * Utiliza un bucle for para iterar a través de la lista y multiplica cada número por 2.\n",
    "    * Imprime el nuevo valor de cada número."
   ]
  },
  {
   "cell_type": "code",
   "execution_count": null,
   "id": "cdbdf6fa",
   "metadata": {},
   "outputs": [],
   "source": []
  },
  {
   "cell_type": "markdown",
   "id": "710a264b",
   "metadata": {},
   "source": [
    "11. Calcula el factorial de un número dado usando un ciclo `for`."
   ]
  },
  {
   "cell_type": "code",
   "execution_count": null,
   "id": "69e5b235",
   "metadata": {},
   "outputs": [],
   "source": []
  },
  {
   "cell_type": "markdown",
   "id": "dfab81b7",
   "metadata": {},
   "source": [
    "12. Encontrar el primer número mayor que 50 en una lista:\n",
    "    * Crea una lista de números [10, 20, 30, 40, 60, 70].\n",
    "    * Utiliza un bucle for para recorrer la lista.\n",
    "    * Imprime el primer número que sea mayor que 50 y detén el bucle usando break."
   ]
  },
  {
   "cell_type": "code",
   "execution_count": null,
   "id": "2061895a",
   "metadata": {},
   "outputs": [],
   "source": []
  },
  {
   "cell_type": "markdown",
   "id": "d61914e7",
   "metadata": {},
   "source": [
    "13. Contar de 10 en 10 hasta 100:\n",
    "    * Utiliza un bucle while que comience en 0 y aumente de 10 en 10 hasta llegar a 100.\n",
    "    * Imprime los números en cada iteración."
   ]
  },
  {
   "cell_type": "code",
   "execution_count": null,
   "id": "342d3560",
   "metadata": {},
   "outputs": [],
   "source": []
  },
  {
   "cell_type": "markdown",
   "id": "63665fa8",
   "metadata": {},
   "source": [
    "14. Encontrar el número mayor en una lista:\n",
    "    * Crea una lista con varios números.\n",
    "    * Usa un bucle for para encontrar el número más grande de la lista e imprímelo."
   ]
  },
  {
   "cell_type": "code",
   "execution_count": null,
   "id": "b24d3ae9",
   "metadata": {},
   "outputs": [],
   "source": []
  },
  {
   "cell_type": "markdown",
   "id": "afc17008",
   "metadata": {},
   "source": [
    "15. Invertir una cadena:\n",
    "    * Pide al usuario que ingrese una cadena de texto.\n",
    "    * Usa un bucle para invertir la cadena e imprime el resultado."
   ]
  },
  {
   "cell_type": "code",
   "execution_count": null,
   "id": "1bc057d1",
   "metadata": {},
   "outputs": [],
   "source": []
  },
  {
   "cell_type": "markdown",
   "id": "a3a2d715",
   "metadata": {},
   "source": [
    "16. Escribe un programa para encontrar todos los números primos entre 1 y 100."
   ]
  },
  {
   "cell_type": "code",
   "execution_count": null,
   "id": "95fe77e0",
   "metadata": {},
   "outputs": [],
   "source": []
  },
  {
   "cell_type": "markdown",
   "id": "e76b6ff1",
   "metadata": {},
   "source": [
    "17. Genera los primeros elementos de la secuencia de Fibonacci siempre y cuando sean menores que 200, usando un bucle `while`."
   ]
  },
  {
   "cell_type": "code",
   "execution_count": null,
   "id": "75f8bc34-fa67-4c40-b34c-398cb9feca2d",
   "metadata": {},
   "outputs": [],
   "source": []
  }
 ],
 "metadata": {
  "kernelspec": {
   "display_name": "Python 3 (ipykernel)",
   "language": "python",
   "name": "python3"
  },
  "language_info": {
   "codemirror_mode": {
    "name": "ipython",
    "version": 3
   },
   "file_extension": ".py",
   "mimetype": "text/x-python",
   "name": "python",
   "nbconvert_exporter": "python",
   "pygments_lexer": "ipython3",
   "version": "3.12.4"
  }
 },
 "nbformat": 4,
 "nbformat_minor": 5
}
