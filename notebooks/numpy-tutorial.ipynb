{
 "cells": [
  {
   "cell_type": "markdown",
   "metadata": {},
   "source": [
    "# Un tutorial de Numpy"
   ]
  },
  {
   "cell_type": "markdown",
   "metadata": {},
   "source": [
    "El módulo NumPy (**Num**erical **Py**thon) es probablemente la paquetería de Python más utilizada en ciencias e ingeniería. Permite realizar operaciones matemáticas sobre arreglos sin necesidad de recurrir a bucles.\n",
    "\n",
    "## ¿Por qué usar Numpy?\n",
    "Hay varias razones para usar numpy:\n",
    "* Operaciones vectorizadas\n",
    "* Operaciones matemáticas y estadísticas\n",
    "* Álgebra Lineal\n",
    "* Números aleatorios\n",
    "\n"
   ]
  },
  {
   "cell_type": "markdown",
   "metadata": {},
   "source": [
    "# Importando el módulo"
   ]
  },
  {
   "cell_type": "code",
   "execution_count": 1,
   "metadata": {},
   "outputs": [],
   "source": [
    "import numpy as np"
   ]
  },
  {
   "cell_type": "markdown",
   "metadata": {},
   "source": [
    "Lo anterior permite acceder a todas las funciones de `numpy` usando el alias `np`.\n",
    "\n",
    "## ¿Qué es un arreglo?\n",
    "Es una estructura utilizada para almacenar datos. En el caso de numpy, se almacenan datos numéricos.\n",
    "\n",
    "**Arreglo de una dimensión**\n",
    "\n",
    "Un arreglo unidimensional, puede representarse como una lista:\n",
    "\n",
    "![Esquema de un arreglo](Figures/array-example.png)"
   ]
  },
  {
   "cell_type": "markdown",
   "metadata": {},
   "source": [
    "### Crear un arreglo de una dimensión"
   ]
  },
  {
   "cell_type": "code",
   "execution_count": 2,
   "metadata": {},
   "outputs": [
    {
     "data": {
      "text/plain": [
       "array([1, 2, 3, 4, 5, 6])"
      ]
     },
     "execution_count": 2,
     "metadata": {},
     "output_type": "execute_result"
    }
   ],
   "source": [
    "np.array([1, 2, 3, 4, 5, 6])"
   ]
  },
  {
   "cell_type": "markdown",
   "metadata": {},
   "source": [
    "**Arreglo de dos dimensiones**\n",
    "\n",
    "Un arreglo bidimensional, puede representarse como una tabla o una matriz:\n",
    "\n",
    "![Esquema de un arreglo de dos dimensiones](Figures/2d-array.png)"
   ]
  },
  {
   "cell_type": "markdown",
   "metadata": {},
   "source": [
    "### Crear un arreglo de dos dimensiones"
   ]
  },
  {
   "cell_type": "code",
   "execution_count": 3,
   "metadata": {},
   "outputs": [
    {
     "data": {
      "text/plain": [
       "array([[ 1,  2,  3,  4,  5,  6],\n",
       "       [ 7,  8,  9, 10, 11, 12],\n",
       "       [13, 14, 15, 16, 17, 18],\n",
       "       [19, 20, 21, 22, 23, 24]])"
      ]
     },
     "execution_count": 3,
     "metadata": {},
     "output_type": "execute_result"
    }
   ],
   "source": [
    "np.array([ [1, 2, 3, 4, 5, 6], \n",
    "          [7, 8, 9, 10, 11, 12], \n",
    "          [13, 14, 15, 16, 17, 18], \n",
    "          [19, 20, 21, 22, 23, 24] ])"
   ]
  },
  {
   "cell_type": "markdown",
   "metadata": {},
   "source": [
    "### Crear arreglos a partir de listas"
   ]
  },
  {
   "cell_type": "code",
   "execution_count": 31,
   "metadata": {},
   "outputs": [
    {
     "data": {
      "text/plain": [
       "list"
      ]
     },
     "execution_count": 31,
     "metadata": {},
     "output_type": "execute_result"
    }
   ],
   "source": [
    "#- Listas\n",
    "lista_1 = [5, 1, 4,6]\n",
    "type(lista_1)"
   ]
  },
  {
   "cell_type": "code",
   "execution_count": 32,
   "metadata": {},
   "outputs": [
    {
     "data": {
      "text/plain": [
       "numpy.ndarray"
      ]
     },
     "execution_count": 32,
     "metadata": {},
     "output_type": "execute_result"
    }
   ],
   "source": [
    "#- Arreglos\n",
    "arreglo = np.array(lista_1)\n",
    "type(arreglo)"
   ]
  },
  {
   "cell_type": "code",
   "execution_count": 33,
   "metadata": {},
   "outputs": [
    {
     "data": {
      "text/plain": [
       "array([5, 1, 4, 6])"
      ]
     },
     "execution_count": 33,
     "metadata": {},
     "output_type": "execute_result"
    }
   ],
   "source": [
    "arreglo"
   ]
  },
  {
   "cell_type": "markdown",
   "metadata": {},
   "source": [
    "### Operaciones de un arreglo con un escalar"
   ]
  },
  {
   "cell_type": "code",
   "execution_count": 15,
   "metadata": {},
   "outputs": [
    {
     "ename": "TypeError",
     "evalue": "can't multiply sequence by non-int of type 'float'",
     "output_type": "error",
     "traceback": [
      "\u001b[1;31m---------------------------------------------------------------------------\u001b[0m",
      "\u001b[1;31mTypeError\u001b[0m                                 Traceback (most recent call last)",
      "Cell \u001b[1;32mIn[15], line 1\u001b[0m\n\u001b[1;32m----> 1\u001b[0m lista_1\u001b[38;5;241m*\u001b[39m\u001b[38;5;241m3.5\u001b[39m\n",
      "\u001b[1;31mTypeError\u001b[0m: can't multiply sequence by non-int of type 'float'"
     ]
    }
   ],
   "source": [
    "lista_1*3.5"
   ]
  },
  {
   "cell_type": "code",
   "execution_count": 16,
   "metadata": {},
   "outputs": [
    {
     "data": {
      "text/plain": [
       "array([ 0. ,  3.5,  7. , 10.5])"
      ]
     },
     "execution_count": 16,
     "metadata": {},
     "output_type": "execute_result"
    }
   ],
   "source": [
    "arreglo*3.5"
   ]
  },
  {
   "cell_type": "markdown",
   "metadata": {},
   "source": [
    "### Los arreglos son iterables\n",
    "Esto significa, que se puede acceder a sus elementos mediante índices"
   ]
  },
  {
   "cell_type": "code",
   "execution_count": 34,
   "metadata": {},
   "outputs": [
    {
     "data": {
      "text/plain": [
       "array([5, 1, 4, 6])"
      ]
     },
     "execution_count": 34,
     "metadata": {},
     "output_type": "execute_result"
    }
   ],
   "source": [
    "#- Accediendo a los elementos\n",
    "arreglo"
   ]
  },
  {
   "cell_type": "code",
   "execution_count": 35,
   "metadata": {},
   "outputs": [
    {
     "data": {
      "text/plain": [
       "1"
      ]
     },
     "execution_count": 35,
     "metadata": {},
     "output_type": "execute_result"
    }
   ],
   "source": [
    "arreglo[1]"
   ]
  },
  {
   "cell_type": "code",
   "execution_count": 36,
   "metadata": {},
   "outputs": [
    {
     "name": "stdout",
     "output_type": "stream",
     "text": [
      "5\n",
      "1\n",
      "4\n",
      "6\n"
     ]
    }
   ],
   "source": [
    "for num in arreglo:\n",
    "    print(num)"
   ]
  },
  {
   "cell_type": "code",
   "execution_count": 43,
   "metadata": {},
   "outputs": [
    {
     "name": "stdout",
     "output_type": "stream",
     "text": [
      "5\n",
      "1\n",
      "100\n",
      "6\n"
     ]
    }
   ],
   "source": [
    "for index in range(len(arreglo)):\n",
    "    #- Muestra el valor del elemento\n",
    "    print(arreglo[index])\n",
    "\n",
    "    #- Elemento en la posición 3\n",
    "    if index == 2:\n",
    "        #- Reemplazar el elemento \n",
    "        arreglo[index] = 100"
   ]
  },
  {
   "cell_type": "code",
   "execution_count": 42,
   "metadata": {},
   "outputs": [
    {
     "data": {
      "text/plain": [
       "array([  5,   1, 100,   6])"
      ]
     },
     "execution_count": 42,
     "metadata": {},
     "output_type": "execute_result"
    }
   ],
   "source": [
    "arreglo"
   ]
  },
  {
   "cell_type": "code",
   "execution_count": 39,
   "metadata": {},
   "outputs": [
    {
     "data": {
      "text/plain": [
       "[0, 1, 2, 3]"
      ]
     },
     "execution_count": 39,
     "metadata": {},
     "output_type": "execute_result"
    }
   ],
   "source": [
    "list(range(len(arreglo)))"
   ]
  },
  {
   "cell_type": "markdown",
   "metadata": {},
   "source": [
    "### Los arreglos se pueden rebanar (slicing)\n",
    "\n",
    "**Para el caso unidimensional**"
   ]
  },
  {
   "cell_type": "code",
   "execution_count": 44,
   "metadata": {},
   "outputs": [
    {
     "data": {
      "text/plain": [
       "array([ 6,  1, 45, 90, 34, 23])"
      ]
     },
     "execution_count": 44,
     "metadata": {},
     "output_type": "execute_result"
    }
   ],
   "source": [
    "#- Definiendo el arreglo\n",
    "nuevo_arreglo = np.array([6, 1, 45, 90, 34, 23])\n",
    "nuevo_arreglo"
   ]
  },
  {
   "cell_type": "code",
   "execution_count": 45,
   "metadata": {},
   "outputs": [
    {
     "data": {
      "text/plain": [
       "array([ 1, 45, 90, 34])"
      ]
     },
     "execution_count": 45,
     "metadata": {},
     "output_type": "execute_result"
    }
   ],
   "source": [
    "#- Aplicando slices\n",
    "sub_arreglo = nuevo_arreglo[1:-1]\n",
    "sub_arreglo"
   ]
  },
  {
   "cell_type": "code",
   "execution_count": 55,
   "metadata": {},
   "outputs": [
    {
     "data": {
      "text/plain": [
       "array([23, 90,  1])"
      ]
     },
     "execution_count": 55,
     "metadata": {},
     "output_type": "execute_result"
    }
   ],
   "source": [
    "nuevo_arreglo[::-2]"
   ]
  },
  {
   "cell_type": "code",
   "execution_count": 57,
   "metadata": {},
   "outputs": [
    {
     "data": {
      "text/plain": [
       "array([1, 2, 3])"
      ]
     },
     "execution_count": 57,
     "metadata": {},
     "output_type": "execute_result"
    }
   ],
   "source": [
    "data = np.array([1,2,3])\n",
    "data"
   ]
  },
  {
   "cell_type": "code",
   "execution_count": 58,
   "metadata": {},
   "outputs": [
    {
     "data": {
      "text/plain": [
       "1"
      ]
     },
     "execution_count": 58,
     "metadata": {},
     "output_type": "execute_result"
    }
   ],
   "source": [
    "data[0]"
   ]
  },
  {
   "cell_type": "code",
   "execution_count": 59,
   "metadata": {},
   "outputs": [
    {
     "data": {
      "text/plain": [
       "2"
      ]
     },
     "execution_count": 59,
     "metadata": {},
     "output_type": "execute_result"
    }
   ],
   "source": [
    "data[1]"
   ]
  },
  {
   "cell_type": "code",
   "execution_count": 62,
   "metadata": {},
   "outputs": [
    {
     "data": {
      "text/plain": [
       "array([2, 3])"
      ]
     },
     "execution_count": 62,
     "metadata": {},
     "output_type": "execute_result"
    }
   ],
   "source": [
    "data[-2:]"
   ]
  },
  {
   "cell_type": "markdown",
   "metadata": {},
   "source": [
    "Para entender cómo funcionan los índices, analiza la siguiente figura\n",
    "\n",
    "![Índices en un arreglo unidimensional](Figures/np_indexing.png)"
   ]
  },
  {
   "cell_type": "markdown",
   "metadata": {},
   "source": [
    "**Para el caso bidimensional**"
   ]
  },
  {
   "cell_type": "code",
   "execution_count": 64,
   "metadata": {},
   "outputs": [
    {
     "data": {
      "text/plain": [
       "array([[1, 2],\n",
       "       [3, 4],\n",
       "       [5, 6]])"
      ]
     },
     "execution_count": 64,
     "metadata": {},
     "output_type": "execute_result"
    }
   ],
   "source": [
    "#- Definiendo la matriz\n",
    "data = np.array([ [1, 2], [3, 4], [5, 6] ])\n",
    "data"
   ]
  },
  {
   "cell_type": "code",
   "execution_count": 65,
   "metadata": {},
   "outputs": [
    {
     "data": {
      "text/plain": [
       "2"
      ]
     },
     "execution_count": 65,
     "metadata": {},
     "output_type": "execute_result"
    }
   ],
   "source": [
    "#- Accediendo a los elementos mediante índices\n",
    "data[0 , 1]"
   ]
  },
  {
   "cell_type": "code",
   "execution_count": 66,
   "metadata": {},
   "outputs": [
    {
     "data": {
      "text/plain": [
       "array([[3, 4],\n",
       "       [5, 6]])"
      ]
     },
     "execution_count": 66,
     "metadata": {},
     "output_type": "execute_result"
    }
   ],
   "source": [
    "#- Aplicando slicing\n",
    "data[1:3]"
   ]
  },
  {
   "cell_type": "code",
   "execution_count": 67,
   "metadata": {},
   "outputs": [
    {
     "data": {
      "text/plain": [
       "array([1, 3])"
      ]
     },
     "execution_count": 67,
     "metadata": {},
     "output_type": "execute_result"
    }
   ],
   "source": [
    "data[0:2, 0]"
   ]
  },
  {
   "cell_type": "code",
   "execution_count": 77,
   "metadata": {},
   "outputs": [
    {
     "data": {
      "text/plain": [
       "2"
      ]
     },
     "execution_count": 77,
     "metadata": {},
     "output_type": "execute_result"
    }
   ],
   "source": [
    "data[0][1]"
   ]
  },
  {
   "cell_type": "code",
   "execution_count": 80,
   "metadata": {},
   "outputs": [
    {
     "data": {
      "text/plain": [
       "array([[ 5,  6],\n",
       "       [ 7,  8],\n",
       "       [ 9, 10]])"
      ]
     },
     "execution_count": 80,
     "metadata": {},
     "output_type": "execute_result"
    }
   ],
   "source": [
    "data + 4"
   ]
  },
  {
   "cell_type": "code",
   "execution_count": 82,
   "metadata": {},
   "outputs": [
    {
     "data": {
      "text/plain": [
       "array([[-5, -4],\n",
       "       [-3, -2],\n",
       "       [-1,  0]])"
      ]
     },
     "execution_count": 82,
     "metadata": {},
     "output_type": "execute_result"
    }
   ],
   "source": [
    "data - 6"
   ]
  },
  {
   "cell_type": "markdown",
   "metadata": {},
   "source": [
    "Para entenderlo mejor, puedes visualizarlo con la figura:\n",
    "\n",
    "![Índices en un arreglo bidimensional](Figures/np_matrix_indexing.png)"
   ]
  },
  {
   "cell_type": "markdown",
   "metadata": {},
   "source": [
    "## Atributos de un arreglo de NumPy\n",
    "Algunos de los atributos de los arreglos son `ndim`, `shape`, `size` y `dtype`."
   ]
  },
  {
   "cell_type": "markdown",
   "metadata": {},
   "source": [
    "### El atributo ndim\n",
    "Nos dice el número de dimensiones con las que cuenta el array"
   ]
  },
  {
   "cell_type": "code",
   "execution_count": 84,
   "metadata": {},
   "outputs": [
    {
     "data": {
      "text/plain": [
       "2"
      ]
     },
     "execution_count": 84,
     "metadata": {},
     "output_type": "execute_result"
    }
   ],
   "source": [
    "data.ndim"
   ]
  },
  {
   "cell_type": "code",
   "execution_count": 86,
   "metadata": {},
   "outputs": [
    {
     "data": {
      "text/plain": [
       "1"
      ]
     },
     "execution_count": 86,
     "metadata": {},
     "output_type": "execute_result"
    }
   ],
   "source": [
    "arreglo.ndim"
   ]
  },
  {
   "cell_type": "markdown",
   "metadata": {},
   "source": [
    "### El atributo shape\n",
    "Es una tupla de enteros positivos que nos indica la cantidad de elementos en cada dimensión del arreglo"
   ]
  },
  {
   "cell_type": "code",
   "execution_count": 88,
   "metadata": {},
   "outputs": [
    {
     "data": {
      "text/plain": [
       "(3, 2)"
      ]
     },
     "execution_count": 88,
     "metadata": {},
     "output_type": "execute_result"
    }
   ],
   "source": [
    "data.shape"
   ]
  },
  {
   "cell_type": "code",
   "execution_count": 89,
   "metadata": {},
   "outputs": [
    {
     "data": {
      "text/plain": [
       "(4,)"
      ]
     },
     "execution_count": 89,
     "metadata": {},
     "output_type": "execute_result"
    }
   ],
   "source": [
    "arreglo.shape"
   ]
  },
  {
   "cell_type": "markdown",
   "metadata": {},
   "source": [
    "### El atributo size\n",
    "Nos indica la cantidad total de elementos con los que cuenta un arreglo"
   ]
  },
  {
   "cell_type": "code",
   "execution_count": 90,
   "metadata": {},
   "outputs": [
    {
     "data": {
      "text/plain": [
       "6"
      ]
     },
     "execution_count": 90,
     "metadata": {},
     "output_type": "execute_result"
    }
   ],
   "source": [
    "data.size"
   ]
  },
  {
   "cell_type": "code",
   "execution_count": 91,
   "metadata": {},
   "outputs": [
    {
     "data": {
      "text/plain": [
       "4"
      ]
     },
     "execution_count": 91,
     "metadata": {},
     "output_type": "execute_result"
    }
   ],
   "source": [
    "arreglo.size"
   ]
  },
  {
   "cell_type": "markdown",
   "metadata": {},
   "source": [
    "### El atributo dtype\n",
    "Nos indica el tipo de datos del que está formado un arreglo"
   ]
  },
  {
   "cell_type": "code",
   "execution_count": 95,
   "metadata": {},
   "outputs": [
    {
     "data": {
      "text/plain": [
       "dtype('int32')"
      ]
     },
     "execution_count": 95,
     "metadata": {},
     "output_type": "execute_result"
    }
   ],
   "source": [
    "data.dtype"
   ]
  },
  {
   "cell_type": "code",
   "execution_count": 106,
   "metadata": {},
   "outputs": [
    {
     "data": {
      "text/plain": [
       "array([0. , 1. , 2. , 4. , 7.8])"
      ]
     },
     "execution_count": 106,
     "metadata": {},
     "output_type": "execute_result"
    }
   ],
   "source": [
    "data2 = np.array([0, 1, 2, 4, 7.8], dtype=float)\n",
    "data2"
   ]
  },
  {
   "cell_type": "markdown",
   "metadata": {},
   "source": [
    "## Operaciones útiles\n",
    "Entre las operaciones más útiles de un arreglo está encontrar el mínimo, máximo, suma, promedio y desviación estándar\n",
    "\n",
    "### Mínimo, máximo y suma de un arreglo\n",
    "\n",
    "**Para el caso unidimensional**"
   ]
  },
  {
   "cell_type": "code",
   "execution_count": 138,
   "metadata": {},
   "outputs": [
    {
     "data": {
      "text/plain": [
       "array([  7,  14,   2, 100])"
      ]
     },
     "execution_count": 138,
     "metadata": {},
     "output_type": "execute_result"
    }
   ],
   "source": [
    "arreglo_uni = np.array([7, 14, 2, 100])\n",
    "arreglo_uni"
   ]
  },
  {
   "cell_type": "code",
   "execution_count": 126,
   "metadata": {},
   "outputs": [
    {
     "name": "stdout",
     "output_type": "stream",
     "text": [
      "El mínimo del arreglo es 2\n",
      "El máximo del arreglo es 100\n",
      "La suma de los elementos del arreglo es 123\n",
      "El promedio del arreglo es 30.75\n",
      "La desviación estándar del arreglo es 40.20805267604985\n"
     ]
    }
   ],
   "source": [
    "print(f'El mínimo del arreglo es {arreglo_uni.min()}')\n",
    "print(f'El máximo del arreglo es {arreglo_uni.max()}')\n",
    "print(f'La suma de los elementos del arreglo es {arreglo_uni.sum()}')\n",
    "print(f'El promedio del arreglo es {arreglo_uni.mean()}')\n",
    "print(f'La desviación estándar del arreglo es {arreglo_uni.std()}')"
   ]
  },
  {
   "cell_type": "code",
   "execution_count": 119,
   "metadata": {},
   "outputs": [
    {
     "data": {
      "text/plain": [
       "1.479019945774904"
      ]
     },
     "execution_count": 119,
     "metadata": {},
     "output_type": "execute_result"
    }
   ],
   "source": [
    "np.std([1,3,4,5])"
   ]
  },
  {
   "cell_type": "markdown",
   "metadata": {},
   "source": [
    "**Para el caso bidimensional**"
   ]
  },
  {
   "cell_type": "code",
   "execution_count": 120,
   "metadata": {},
   "outputs": [
    {
     "data": {
      "text/plain": [
       "array([[1, 2],\n",
       "       [5, 3],\n",
       "       [4, 6]])"
      ]
     },
     "execution_count": 120,
     "metadata": {},
     "output_type": "execute_result"
    }
   ],
   "source": [
    "data3 = np.array([ [1, 2], [5, 3], [4, 6] ])\n",
    "data3"
   ]
  },
  {
   "cell_type": "markdown",
   "metadata": {},
   "source": [
    "También es posible indicar la dirección sobre la cual operar"
   ]
  },
  {
   "cell_type": "code",
   "execution_count": 124,
   "metadata": {},
   "outputs": [
    {
     "data": {
      "text/plain": [
       "array([5, 6])"
      ]
     },
     "execution_count": 124,
     "metadata": {},
     "output_type": "execute_result"
    }
   ],
   "source": [
    "data3.max(axis=0)"
   ]
  },
  {
   "cell_type": "code",
   "execution_count": 125,
   "metadata": {},
   "outputs": [
    {
     "data": {
      "text/plain": [
       "array([2, 5, 6])"
      ]
     },
     "execution_count": 125,
     "metadata": {},
     "output_type": "execute_result"
    }
   ],
   "source": [
    "data3.max(axis=1)"
   ]
  },
  {
   "cell_type": "markdown",
   "metadata": {},
   "source": [
    "Para comprenderlo de mejor manera, puedes visualizarlo con la siguiente figura:\n",
    "\n",
    "![Axis en un arreglo bidimensional](Figures/np_matrix_aggregation_row.png)"
   ]
  },
  {
   "cell_type": "markdown",
   "metadata": {},
   "source": [
    "### Promedio y desviación estándar de un arreglo"
   ]
  },
  {
   "cell_type": "code",
   "execution_count": 132,
   "metadata": {},
   "outputs": [
    {
     "data": {
      "text/plain": [
       "array([1.69967317, 1.69967317])"
      ]
     },
     "execution_count": 132,
     "metadata": {},
     "output_type": "execute_result"
    }
   ],
   "source": [
    "data3.std(axis=0)"
   ]
  },
  {
   "cell_type": "code",
   "execution_count": 133,
   "metadata": {},
   "outputs": [
    {
     "data": {
      "text/plain": [
       "array([0.5, 1. , 1. ])"
      ]
     },
     "execution_count": 133,
     "metadata": {},
     "output_type": "execute_result"
    }
   ],
   "source": [
    "data3.std(axis=1)"
   ]
  },
  {
   "cell_type": "code",
   "execution_count": 131,
   "metadata": {},
   "outputs": [
    {
     "data": {
      "text/plain": [
       "array([ 3,  8, 10])"
      ]
     },
     "execution_count": 131,
     "metadata": {},
     "output_type": "execute_result"
    }
   ],
   "source": [
    "data3.sum(axis=1)"
   ]
  },
  {
   "cell_type": "markdown",
   "metadata": {},
   "source": [
    "## Juntando y ordenando arreglos\n",
    "\n",
    "### El método sort()\n",
    "Ordena de menor a mayor los elementos de un arreglo"
   ]
  },
  {
   "cell_type": "code",
   "execution_count": 140,
   "metadata": {},
   "outputs": [
    {
     "data": {
      "text/plain": [
       "array([  7,  14,   2, 100])"
      ]
     },
     "execution_count": 140,
     "metadata": {},
     "output_type": "execute_result"
    }
   ],
   "source": [
    "arreglo_uni"
   ]
  },
  {
   "cell_type": "code",
   "execution_count": 149,
   "metadata": {},
   "outputs": [
    {
     "data": {
      "text/plain": [
       "array([  2,   7,  14, 100])"
      ]
     },
     "execution_count": 149,
     "metadata": {},
     "output_type": "execute_result"
    }
   ],
   "source": [
    "arreglo_uni.sort()\n",
    "arreglo_uni"
   ]
  },
  {
   "cell_type": "code",
   "execution_count": 150,
   "metadata": {},
   "outputs": [
    {
     "data": {
      "text/plain": [
       "array([100,  14,   7,   2])"
      ]
     },
     "execution_count": 150,
     "metadata": {},
     "output_type": "execute_result"
    }
   ],
   "source": [
    "arreglo_uni[::-1]"
   ]
  },
  {
   "cell_type": "code",
   "execution_count": 142,
   "metadata": {},
   "outputs": [
    {
     "data": {
      "text/plain": [
       "array([[1, 2],\n",
       "       [5, 3],\n",
       "       [4, 6]])"
      ]
     },
     "execution_count": 142,
     "metadata": {},
     "output_type": "execute_result"
    }
   ],
   "source": [
    "data3"
   ]
  },
  {
   "cell_type": "code",
   "execution_count": 147,
   "metadata": {},
   "outputs": [
    {
     "data": {
      "text/plain": [
       "array([[1, 2],\n",
       "       [3, 5],\n",
       "       [4, 6]])"
      ]
     },
     "execution_count": 147,
     "metadata": {},
     "output_type": "execute_result"
    }
   ],
   "source": [
    "data3.sort()\n",
    "data3"
   ]
  },
  {
   "cell_type": "code",
   "execution_count": null,
   "metadata": {},
   "outputs": [],
   "source": []
  },
  {
   "cell_type": "markdown",
   "metadata": {},
   "source": [
    "### La operación concatenate()\n",
    "Une dos o más arreglos. Para esto, los ingresamos como una tupla"
   ]
  },
  {
   "cell_type": "code",
   "execution_count": 151,
   "metadata": {},
   "outputs": [],
   "source": [
    "a1 = np.array([1,2,3])\n",
    "a2 = np.array([6,7,8])"
   ]
  },
  {
   "cell_type": "code",
   "execution_count": 157,
   "metadata": {},
   "outputs": [
    {
     "data": {
      "text/plain": [
       "array([1, 2, 3, 6, 7, 8])"
      ]
     },
     "execution_count": 157,
     "metadata": {},
     "output_type": "execute_result"
    }
   ],
   "source": [
    "a3 = np.concatenate((a1, a2))\n",
    "a3"
   ]
  },
  {
   "cell_type": "markdown",
   "metadata": {},
   "source": [
    "También es posible añadir el parámetro `axis` para especificar la dirección"
   ]
  },
  {
   "cell_type": "code",
   "execution_count": null,
   "metadata": {},
   "outputs": [],
   "source": []
  },
  {
   "cell_type": "markdown",
   "metadata": {},
   "source": [
    "## Creando arreglos básicos\n",
    "Las formas elementales para crear arreglos es mediante las funciones `np.zeros()`, `np.ones()`, `np.arange()`, `np.linspace` y `np.logspace()`\n",
    "\n",
    "### Arreglos de ceros y unos\n",
    "**Caso unidimensional**"
   ]
  },
  {
   "cell_type": "code",
   "execution_count": 165,
   "metadata": {},
   "outputs": [
    {
     "data": {
      "text/plain": [
       "array([0., 0.])"
      ]
     },
     "execution_count": 165,
     "metadata": {},
     "output_type": "execute_result"
    }
   ],
   "source": [
    "np.zeros(2)"
   ]
  },
  {
   "cell_type": "code",
   "execution_count": 164,
   "metadata": {},
   "outputs": [
    {
     "data": {
      "text/plain": [
       "array([1., 1., 1., 1., 1., 1.])"
      ]
     },
     "execution_count": 164,
     "metadata": {},
     "output_type": "execute_result"
    }
   ],
   "source": [
    "np.ones(6)"
   ]
  },
  {
   "cell_type": "markdown",
   "metadata": {},
   "source": [
    "**Caso bidimensional**"
   ]
  },
  {
   "cell_type": "code",
   "execution_count": 166,
   "metadata": {},
   "outputs": [
    {
     "data": {
      "text/plain": [
       "array([[0., 0.],\n",
       "       [0., 0.],\n",
       "       [0., 0.]])"
      ]
     },
     "execution_count": 166,
     "metadata": {},
     "output_type": "execute_result"
    }
   ],
   "source": [
    "np.zeros((3, 2))"
   ]
  },
  {
   "cell_type": "code",
   "execution_count": 167,
   "metadata": {},
   "outputs": [
    {
     "data": {
      "text/plain": [
       "array([[1., 1., 1., 1., 1.],\n",
       "       [1., 1., 1., 1., 1.],\n",
       "       [1., 1., 1., 1., 1.],\n",
       "       [1., 1., 1., 1., 1.],\n",
       "       [1., 1., 1., 1., 1.]])"
      ]
     },
     "execution_count": 167,
     "metadata": {},
     "output_type": "execute_result"
    }
   ],
   "source": [
    "np.ones((5,5))"
   ]
  },
  {
   "cell_type": "markdown",
   "metadata": {},
   "source": [
    "### Arreglos ordenados\n",
    "**Usando np.arange()**\n",
    "\n",
    "Se crea un arreglo desde un punto de inicio, un punto de llegada y los pasos"
   ]
  },
  {
   "cell_type": "code",
   "execution_count": 173,
   "metadata": {},
   "outputs": [
    {
     "data": {
      "text/plain": [
       "array([1. , 1.1, 1.2, 1.3, 1.4, 1.5, 1.6, 1.7, 1.8, 1.9, 2. , 2.1, 2.2,\n",
       "       2.3, 2.4, 2.5, 2.6, 2.7, 2.8, 2.9, 3. , 3.1, 3.2, 3.3, 3.4, 3.5,\n",
       "       3.6, 3.7, 3.8, 3.9, 4. , 4.1, 4.2, 4.3, 4.4, 4.5, 4.6, 4.7, 4.8,\n",
       "       4.9, 5. , 5.1, 5.2, 5.3, 5.4, 5.5, 5.6, 5.7, 5.8, 5.9, 6. , 6.1,\n",
       "       6.2, 6.3, 6.4, 6.5, 6.6, 6.7, 6.8, 6.9, 7. , 7.1, 7.2, 7.3, 7.4,\n",
       "       7.5, 7.6, 7.7, 7.8, 7.9, 8. , 8.1, 8.2, 8.3, 8.4, 8.5, 8.6, 8.7,\n",
       "       8.8, 8.9])"
      ]
     },
     "execution_count": 173,
     "metadata": {},
     "output_type": "execute_result"
    }
   ],
   "source": [
    "np.arange(1, 9, 0.1)"
   ]
  },
  {
   "cell_type": "markdown",
   "metadata": {},
   "source": [
    "**Usando np.linspace()**\n",
    "\n",
    "Se crea un arreglo desde un punto de inicio, un punto de llegada, y la cantidad de elementos"
   ]
  },
  {
   "cell_type": "code",
   "execution_count": 175,
   "metadata": {},
   "outputs": [
    {
     "data": {
      "text/plain": [
       "array([1.        , 1.88888889, 2.77777778, 3.66666667, 4.55555556,\n",
       "       5.44444444, 6.33333333, 7.22222222, 8.11111111, 9.        ])"
      ]
     },
     "execution_count": 175,
     "metadata": {},
     "output_type": "execute_result"
    }
   ],
   "source": [
    "np.linspace(1, 9, 10, endpoint=True)"
   ]
  },
  {
   "cell_type": "markdown",
   "metadata": {},
   "source": [
    "**Usando np.logspace()**\n",
    "\n",
    "Similar a `np.linspace()`, pero el arreglo se crea logarítmicamente espaciado"
   ]
  },
  {
   "cell_type": "code",
   "execution_count": 180,
   "metadata": {},
   "outputs": [
    {
     "data": {
      "text/plain": [
       "array([0.36787944, 1.        , 2.71828183])"
      ]
     },
     "execution_count": 180,
     "metadata": {},
     "output_type": "execute_result"
    }
   ],
   "source": [
    "np.logspace(-1, 1, 3, base=np.e, endpoint=True)"
   ]
  },
  {
   "cell_type": "code",
   "execution_count": 178,
   "metadata": {},
   "outputs": [
    {
     "name": "stdout",
     "output_type": "stream",
     "text": [
      "Help on _ArrayFunctionDispatcher in module numpy:\n",
      "\n",
      "logspace(start, stop, num=50, endpoint=True, base=10.0, dtype=None, axis=0)\n",
      "    Return numbers spaced evenly on a log scale.\n",
      "\n",
      "    In linear space, the sequence starts at ``base ** start``\n",
      "    (`base` to the power of `start`) and ends with ``base ** stop``\n",
      "    (see `endpoint` below).\n",
      "\n",
      "    .. versionchanged:: 1.16.0\n",
      "        Non-scalar `start` and `stop` are now supported.\n",
      "\n",
      "    .. versionchanged:: 1.25.0\n",
      "        Non-scalar 'base` is now supported\n",
      "\n",
      "    Parameters\n",
      "    ----------\n",
      "    start : array_like\n",
      "        ``base ** start`` is the starting value of the sequence.\n",
      "    stop : array_like\n",
      "        ``base ** stop`` is the final value of the sequence, unless `endpoint`\n",
      "        is False.  In that case, ``num + 1`` values are spaced over the\n",
      "        interval in log-space, of which all but the last (a sequence of\n",
      "        length `num`) are returned.\n",
      "    num : integer, optional\n",
      "        Number of samples to generate.  Default is 50.\n",
      "    endpoint : boolean, optional\n",
      "        If true, `stop` is the last sample. Otherwise, it is not included.\n",
      "        Default is True.\n",
      "    base : array_like, optional\n",
      "        The base of the log space. The step size between the elements in\n",
      "        ``ln(samples) / ln(base)`` (or ``log_base(samples)``) is uniform.\n",
      "        Default is 10.0.\n",
      "    dtype : dtype\n",
      "        The type of the output array.  If `dtype` is not given, the data type\n",
      "        is inferred from `start` and `stop`. The inferred type will never be\n",
      "        an integer; `float` is chosen even if the arguments would produce an\n",
      "        array of integers.\n",
      "    axis : int, optional\n",
      "        The axis in the result to store the samples.  Relevant only if start,\n",
      "        stop, or base are array-like.  By default (0), the samples will be\n",
      "        along a new axis inserted at the beginning. Use -1 to get an axis at\n",
      "        the end.\n",
      "\n",
      "        .. versionadded:: 1.16.0\n",
      "\n",
      "\n",
      "    Returns\n",
      "    -------\n",
      "    samples : ndarray\n",
      "        `num` samples, equally spaced on a log scale.\n",
      "\n",
      "    See Also\n",
      "    --------\n",
      "    arange : Similar to linspace, with the step size specified instead of the\n",
      "             number of samples. Note that, when used with a float endpoint, the\n",
      "             endpoint may or may not be included.\n",
      "    linspace : Similar to logspace, but with the samples uniformly distributed\n",
      "               in linear space, instead of log space.\n",
      "    geomspace : Similar to logspace, but with endpoints specified directly.\n",
      "    :ref:`how-to-partition`\n",
      "\n",
      "    Notes\n",
      "    -----\n",
      "    If base is a scalar, logspace is equivalent to the code\n",
      "\n",
      "    >>> y = np.linspace(start, stop, num=num, endpoint=endpoint)\n",
      "    ... # doctest: +SKIP\n",
      "    >>> power(base, y).astype(dtype)\n",
      "    ... # doctest: +SKIP\n",
      "\n",
      "    Examples\n",
      "    --------\n",
      "    >>> np.logspace(2.0, 3.0, num=4)\n",
      "    array([ 100.        ,  215.443469  ,  464.15888336, 1000.        ])\n",
      "    >>> np.logspace(2.0, 3.0, num=4, endpoint=False)\n",
      "    array([100.        ,  177.827941  ,  316.22776602,  562.34132519])\n",
      "    >>> np.logspace(2.0, 3.0, num=4, base=2.0)\n",
      "    array([4.        ,  5.0396842 ,  6.34960421,  8.        ])\n",
      "    >>> np.logspace(2.0, 3.0, num=4, base=[2.0, 3.0], axis=-1)\n",
      "    array([[ 4.        ,  5.0396842 ,  6.34960421,  8.        ],\n",
      "           [ 9.        , 12.98024613, 18.72075441, 27.        ]])\n",
      "\n",
      "    Graphical illustration:\n",
      "\n",
      "    >>> import matplotlib.pyplot as plt\n",
      "    >>> N = 10\n",
      "    >>> x1 = np.logspace(0.1, 1, N, endpoint=True)\n",
      "    >>> x2 = np.logspace(0.1, 1, N, endpoint=False)\n",
      "    >>> y = np.zeros(N)\n",
      "    >>> plt.plot(x1, y, 'o')\n",
      "    [<matplotlib.lines.Line2D object at 0x...>]\n",
      "    >>> plt.plot(x2, y + 0.5, 'o')\n",
      "    [<matplotlib.lines.Line2D object at 0x...>]\n",
      "    >>> plt.ylim([-0.5, 1])\n",
      "    (-0.5, 1)\n",
      "    >>> plt.show()\n",
      "\n"
     ]
    }
   ],
   "source": [
    "help(np.logspace)"
   ]
  },
  {
   "cell_type": "markdown",
   "metadata": {},
   "source": [
    "## Creando arreglos aleatorios\n",
    "El submódulo `np.random` contiene múltiples generadores de números aleatorios para crear arreglos. Puedes ver todas los generadores disponibles en este [enlace](https://numpy.org/doc/stable/reference/random/legacy.html). \n",
    "\n",
    "Acá solo veremos algunos de ellos.\n",
    "\n",
    "### El generador de números aleatorios por defecto"
   ]
  },
  {
   "cell_type": "code",
   "execution_count": 188,
   "metadata": {},
   "outputs": [
    {
     "data": {
      "text/plain": [
       "array([0.56552039, 0.78479891, 0.03306879])"
      ]
     },
     "execution_count": 188,
     "metadata": {},
     "output_type": "execute_result"
    }
   ],
   "source": [
    "rng = np.random.default_rng()\n",
    "rng.random(3)"
   ]
  },
  {
   "cell_type": "markdown",
   "metadata": {},
   "source": [
    "### El generador np.random.rand()\n",
    "Genera números aleatorios entre 0 y 1"
   ]
  },
  {
   "cell_type": "code",
   "execution_count": 190,
   "metadata": {},
   "outputs": [
    {
     "data": {
      "text/plain": [
       "array([0.70557116, 0.32724853, 0.11389192, 0.8804879 , 0.24034292])"
      ]
     },
     "execution_count": 190,
     "metadata": {},
     "output_type": "execute_result"
    }
   ],
   "source": [
    "np.random.rand(5)"
   ]
  },
  {
   "cell_type": "markdown",
   "metadata": {},
   "source": [
    "### El generador np.random.randint()\n",
    "Devuelve un arreglo de números enteros entre dos límites"
   ]
  },
  {
   "cell_type": "code",
   "execution_count": 194,
   "metadata": {},
   "outputs": [
    {
     "data": {
      "text/plain": [
       "array([4, 3, 1, 5, 4, 6, 2, 6, 2, 1])"
      ]
     },
     "execution_count": 194,
     "metadata": {},
     "output_type": "execute_result"
    }
   ],
   "source": [
    "np.random.randint(1, 9, 10)"
   ]
  },
  {
   "cell_type": "markdown",
   "metadata": {},
   "source": [
    "### El generador np.random.normal()\n",
    "Devuelve un arreglo de números aleatorios que siguen la distribución nomral:\n",
    "\n",
    "$$\n",
    "p(x) = \\frac{1}{\\sqrt{2\\pi\\sigma^2}}\\exp\\left[-\\frac{(x-\\mu)^2}{2\\sigma^2}\\right].\n",
    "$$\n",
    "Los parámetros de entrada son la media $\\mu$ y la desviación estándar $\\sigma$."
   ]
  },
  {
   "cell_type": "code",
   "execution_count": 206,
   "metadata": {},
   "outputs": [
    {
     "data": {
      "text/plain": [
       "array([128.98752632,  90.90640806,  87.522744  ,  78.53166619,\n",
       "       109.01215487, 104.29393224,  77.19786134,  98.23611053,\n",
       "        96.07308706, 115.22133336,  84.73456393,  90.31428984,\n",
       "       119.91782782,  87.57877683, 113.67138282,  85.99808354,\n",
       "        82.02940026, 118.60492544,  99.91731119, 112.5337247 ,\n",
       "       111.27357616, 114.52882488, 131.42825629,  82.33080601,\n",
       "        97.6050884 ,  70.3180791 , 107.25234397,  77.8649253 ,\n",
       "       147.60439593,  86.62862168, 115.89236714,  54.46927239,\n",
       "        74.85011809, 107.04910322, 104.30400902,  82.71083935,\n",
       "       107.04035081, 113.558103  , 120.60578198, 124.26901705,\n",
       "        94.77979066, 112.23499743, 112.52599023, 140.09293831,\n",
       "        68.57838545, 107.70700177,  93.96159423,  49.30856699,\n",
       "        90.34222605, 111.63242872])"
      ]
     },
     "execution_count": 206,
     "metadata": {},
     "output_type": "execute_result"
    }
   ],
   "source": [
    "normal_dist = np.random.normal(100, 20, 50)\n",
    "normal_dist"
   ]
  },
  {
   "cell_type": "code",
   "execution_count": 203,
   "metadata": {},
   "outputs": [
    {
     "data": {
      "text/plain": [
       "100.47303885384376"
      ]
     },
     "execution_count": 203,
     "metadata": {},
     "output_type": "execute_result"
    }
   ],
   "source": [
    "normal_dist.mean()"
   ]
  },
  {
   "cell_type": "markdown",
   "metadata": {},
   "source": [
    "### El generador np.random.poisson()\n",
    "Devuelve un arreglo de números aleatorios que siguien la distribución de Poisson:\n",
    "$$\n",
    "f(k; \\lambda) = \\frac{\\lambda^k e^{-k}}{k!},\n",
    "$$\n",
    "El paŕametro de entrada es el número de eventos $k$ esperado en un intervalo $\\lambda$."
   ]
  },
  {
   "cell_type": "code",
   "execution_count": 209,
   "metadata": {},
   "outputs": [
    {
     "data": {
      "text/plain": [
       "array([10,  6, 11,  8, 12])"
      ]
     },
     "execution_count": 209,
     "metadata": {},
     "output_type": "execute_result"
    }
   ],
   "source": [
    "np.random.poisson(9, size=5)"
   ]
  },
  {
   "cell_type": "markdown",
   "metadata": {},
   "source": [
    "### El generador np.random.uniform()\n",
    "Devuelve un arreglo de números aleatorios que siguien la distribución uniforme:\n",
    "$$\n",
    "p(x) = \\frac{1}{b-a}\n",
    "$$\n",
    "Opera sobre el intervalo $[a, b)$. Los parámetros de entrada son el límite inferior, el límite superior y el tamaño del arreglo."
   ]
  },
  {
   "cell_type": "code",
   "execution_count": 210,
   "metadata": {},
   "outputs": [
    {
     "data": {
      "text/plain": [
       "array([6.67855066, 4.35666365, 7.87532284, 7.51761464, 2.78213819,\n",
       "       8.45075089, 4.80187025, 1.56042782, 1.3747928 , 1.58719405])"
      ]
     },
     "execution_count": 210,
     "metadata": {},
     "output_type": "execute_result"
    }
   ],
   "source": [
    "np.random.uniform(1, 10, 10)"
   ]
  },
  {
   "cell_type": "markdown",
   "metadata": {},
   "source": [
    "## Leyendo y creando archivos de texto\n",
    "Guardar un arreglo de numpy como un archivo de texto"
   ]
  },
  {
   "cell_type": "code",
   "execution_count": 213,
   "metadata": {},
   "outputs": [],
   "source": [
    "np.savetxt('Datos.txt', data3)"
   ]
  },
  {
   "cell_type": "markdown",
   "metadata": {},
   "source": [
    "Es posible leer un archivo de texto y convertirlo a un arreglo de numpy"
   ]
  },
  {
   "cell_type": "code",
   "execution_count": 216,
   "metadata": {},
   "outputs": [
    {
     "data": {
      "text/plain": [
       "array([[1., 2.],\n",
       "       [3., 5.],\n",
       "       [4., 6.]])"
      ]
     },
     "execution_count": 216,
     "metadata": {},
     "output_type": "execute_result"
    }
   ],
   "source": [
    "a = np.genfromtxt('Datos.txt')\n",
    "a"
   ]
  },
  {
   "cell_type": "code",
   "execution_count": null,
   "metadata": {},
   "outputs": [],
   "source": []
  }
 ],
 "metadata": {
  "kernelspec": {
   "display_name": "Python 3 (ipykernel)",
   "language": "python",
   "name": "python3"
  },
  "language_info": {
   "codemirror_mode": {
    "name": "ipython",
    "version": 3
   },
   "file_extension": ".py",
   "mimetype": "text/x-python",
   "name": "python",
   "nbconvert_exporter": "python",
   "pygments_lexer": "ipython3",
   "version": "3.12.4"
  }
 },
 "nbformat": 4,
 "nbformat_minor": 4
}
