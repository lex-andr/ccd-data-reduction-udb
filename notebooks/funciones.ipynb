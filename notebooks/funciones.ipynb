{
 "cells": [
  {
   "cell_type": "markdown",
   "metadata": {},
   "source": [
    "# Funciones\n",
    "Una función en Python es un bloque de declaraciones (comandos) que devuelven una tarea específica.\n",
    "\n",
    "Es común que en un mismo código, algunas tareas se realicen de forma común o repetida. El propósito de las funciones es, que en lugar de escribir el mismo código una y otra vez para diferentes entradas, podamos realizar llamadas a funciones para reutilizar el código contenido en ella una y otra vez.\n",
    "\n",
    "Algunos beneficios de usar funciones son:\n",
    "* Mejora la legibilidad del código\n",
    "* Mejora la reutilización del código\n",
    "\n",
    "## Declaración de funciones en Python\n",
    "La sintaxis para declarar una función es la siguiente:\n",
    "\n",
    "![Esquema de una función](Figures/defpython.png)\n",
    "\n",
    "## Tipos de funciones\n",
    "Existen dos tipos de funciones en Python:\n",
    "1. **Funciones pre-definidas**: Son funciones de Python que están disponibles para cualquier usuario. Ya hemos usado algunas de estas funciones, en este [enlace](https://docs.python.org/3/library/functions.html) puedes ver la lista completa de funciones pre-definidas.\n",
    "2. **Funciones definidas por el usuario**: Son funciones creadas por cada usuario, según los requisitos de cada uno.\n",
    "\n",
    "## Creando funciones en Python\n",
    "**Función sin parámetros**\n",
    "\n",
    "Veamos el ejemplo más simple:"
   ]
  },
  {
   "cell_type": "code",
   "execution_count": 1,
   "metadata": {},
   "outputs": [],
   "source": [
    "#- Función para imprimir un mensaje\n",
    "def salu2():\n",
    "    print(\"¡Hola!\")"
   ]
  },
  {
   "cell_type": "markdown",
   "metadata": {},
   "source": [
    "Para invocar la función `salu2`, lo hacemos así:"
   ]
  },
  {
   "cell_type": "code",
   "execution_count": 2,
   "metadata": {},
   "outputs": [
    {
     "name": "stdout",
     "output_type": "stream",
     "text": [
      "¡Hola!\n"
     ]
    }
   ],
   "source": [
    "salu2()"
   ]
  },
  {
   "cell_type": "markdown",
   "metadata": {},
   "source": [
    "**Función con parámetros**\n",
    "\n",
    "Ahora veamos una función que necesita parámetros para ejecutarse:"
   ]
  },
  {
   "cell_type": "code",
   "execution_count": 3,
   "metadata": {},
   "outputs": [],
   "source": [
    "def salu3(name):\n",
    "    '''\n",
    "    Esta es una función que imprime un mensaje\n",
    "\n",
    "    Parameters\n",
    "    ----------\n",
    "    name : str\n",
    "        Una variable de tipo string\n",
    "    '''\n",
    "    print(f'¡Hola, {name}!')"
   ]
  },
  {
   "cell_type": "markdown",
   "metadata": {},
   "source": [
    "Para invocarla, le agregamos una variable tipo `str`:"
   ]
  },
  {
   "cell_type": "code",
   "execution_count": 4,
   "metadata": {},
   "outputs": [
    {
     "name": "stdout",
     "output_type": "stream",
     "text": [
      "¡Hola, Señor Doctor Profesor Patricio!\n"
     ]
    }
   ],
   "source": [
    "salu3(\"Señor Doctor Profesor Patricio\")"
   ]
  },
  {
   "cell_type": "code",
   "execution_count": 5,
   "metadata": {},
   "outputs": [
    {
     "name": "stdout",
     "output_type": "stream",
     "text": [
      "Help on function salu3 in module __main__:\n",
      "\n",
      "salu3(name)\n",
      "    Esta es una función que imprime un mensaje\n",
      "\n",
      "    Parameters\n",
      "    ----------\n",
      "    name : str\n",
      "        Una variable de tipo string\n",
      "\n"
     ]
    }
   ],
   "source": [
    "help(salu3)"
   ]
  },
  {
   "cell_type": "markdown",
   "metadata": {},
   "source": [
    "### Escribe una función que encuentre el mayor de dos números"
   ]
  },
  {
   "cell_type": "code",
   "execution_count": 24,
   "metadata": {},
   "outputs": [],
   "source": [
    "def mayor_de_dos(num1, num2):\n",
    "    if num1 == num2:\n",
    "        message = 'Los números son iguales'\n",
    "        print(message)\n",
    "        return \n",
    "    \n",
    "    elif num1 > num2:\n",
    "        mayor = num1\n",
    "\n",
    "    else: \n",
    "        mayor = num2\n",
    "    print('El mayor entre {} y {} es {}'.format(num1, num2, mayor))"
   ]
  },
  {
   "cell_type": "code",
   "execution_count": 25,
   "metadata": {},
   "outputs": [
    {
     "name": "stdout",
     "output_type": "stream",
     "text": [
      "El mayor entre 21 y 14 es 21\n"
     ]
    }
   ],
   "source": [
    "mayor_de_dos(21, 14)"
   ]
  },
  {
   "cell_type": "markdown",
   "metadata": {},
   "source": [
    "### Escribe una función que encuentre el mayor entre tres números"
   ]
  },
  {
   "cell_type": "code",
   "execution_count": 26,
   "metadata": {},
   "outputs": [],
   "source": [
    "#- Función de Antony\n",
    "def M3 (n1, n2, n3):\n",
    "    if n1 > n2 and n3:\n",
    "        Mayor = n1\n",
    "    elif n2 > n1 and n3:\n",
    "        Mayor = n2\n",
    "    else:\n",
    "        Mayor = n3\n",
    "    print(f'El número mayor entre {n1}, {n2} y {n3} es {Mayor}')"
   ]
  },
  {
   "cell_type": "code",
   "execution_count": 27,
   "metadata": {},
   "outputs": [
    {
     "name": "stdout",
     "output_type": "stream",
     "text": [
      "El número mayor entre 8, 7 y 2 es 8\n"
     ]
    }
   ],
   "source": [
    "M3 (8, 7, 2)"
   ]
  },
  {
   "cell_type": "code",
   "execution_count": 28,
   "metadata": {},
   "outputs": [],
   "source": [
    "#- Función de Francisco\n",
    "def mayor_entre_tres(num1,num2,num3):\n",
    "    num = [num1,num2,num3]\n",
    "    num.sort()\n",
    "    print(f\"El mayor entre {num1}, {num2} y {num3} es: {num[-1]}\")"
   ]
  },
  {
   "cell_type": "code",
   "execution_count": 29,
   "metadata": {},
   "outputs": [
    {
     "name": "stdout",
     "output_type": "stream",
     "text": [
      "El mayor entre 8, 7 y 2 es: 8\n"
     ]
    }
   ],
   "source": [
    "mayor_entre_tres(8, 7,2)"
   ]
  },
  {
   "cell_type": "code",
   "execution_count": 30,
   "metadata": {},
   "outputs": [],
   "source": [
    "def mayor_de_tres(num1, num2, num3):\n",
    "    mayor = num1\n",
    "    if num2 > mayor:\n",
    "        mayor = num2\n",
    "        \n",
    "    if num3 > mayor:\n",
    "        mayor = num3\n",
    "        \n",
    "    print(f\"El mayor entre {num1}, {num2} y {num3} es: {mayor}\")"
   ]
  },
  {
   "cell_type": "code",
   "execution_count": 31,
   "metadata": {},
   "outputs": [
    {
     "name": "stdout",
     "output_type": "stream",
     "text": [
      "El mayor entre 8, 7 y 2 es: 8\n"
     ]
    }
   ],
   "source": [
    "mayor_de_tres(8, 7,2)"
   ]
  },
  {
   "cell_type": "markdown",
   "metadata": {},
   "source": [
    "### Encuentra el mayor de los números en una lista, sin el método sort()"
   ]
  },
  {
   "cell_type": "code",
   "execution_count": 32,
   "metadata": {},
   "outputs": [],
   "source": [
    "def mayor_de_lista(lista):\n",
    "    tmp = lista[0]\n",
    "    for a in lista[1:]:\n",
    "        if a > tmp:\n",
    "            tmp = a\n",
    "    print(\"El mayor entre\",*lista,\"es:\",tmp)"
   ]
  },
  {
   "cell_type": "code",
   "execution_count": 33,
   "metadata": {},
   "outputs": [
    {
     "name": "stdout",
     "output_type": "stream",
     "text": [
      "El mayor entre 1 5 8 7 6 3 10 12 es: 12\n"
     ]
    }
   ],
   "source": [
    "mayor_de_lista([1, 5, 8, 7, 6, 3, 10, 12])"
   ]
  },
  {
   "cell_type": "markdown",
   "metadata": {},
   "source": [
    "### Escribe una función que calcule la suma de los elementos en una lista"
   ]
  },
  {
   "cell_type": "code",
   "execution_count": 34,
   "metadata": {},
   "outputs": [],
   "source": [
    "def suma_lista(lista):\n",
    "    suma = 0\n",
    "    for a in lista:\n",
    "        suma += a\n",
    "    print(f'la suma de los elementos en {lista} es {suma}')"
   ]
  },
  {
   "cell_type": "code",
   "execution_count": 35,
   "metadata": {},
   "outputs": [
    {
     "name": "stdout",
     "output_type": "stream",
     "text": [
      "la suma de los elementos en [1, 2, 3, 4, 5] es 15\n"
     ]
    }
   ],
   "source": [
    "suma_lista([1, 2, 3, 4, 5])"
   ]
  },
  {
   "cell_type": "code",
   "execution_count": 36,
   "metadata": {},
   "outputs": [
    {
     "data": {
      "text/plain": [
       "15"
      ]
     },
     "execution_count": 36,
     "metadata": {},
     "output_type": "execute_result"
    }
   ],
   "source": [
    "sum([1, 2, 3, 4, 5])"
   ]
  },
  {
   "cell_type": "markdown",
   "metadata": {},
   "source": [
    "### Escribe una función que calcule el producto de los elementos de una lista"
   ]
  },
  {
   "cell_type": "code",
   "execution_count": 37,
   "metadata": {},
   "outputs": [],
   "source": [
    "def prod_lista(lista):\n",
    "    prod = 1\n",
    "    for a in lista:\n",
    "        prod *= a\n",
    "    print(f'El producto de los elementos en {lista} es {prod}')"
   ]
  },
  {
   "cell_type": "code",
   "execution_count": 38,
   "metadata": {},
   "outputs": [
    {
     "name": "stdout",
     "output_type": "stream",
     "text": [
      "El producto de los elementos en [1, 2, 3, 4] es 24\n"
     ]
    }
   ],
   "source": [
    "prod_lista([1,2,3,4])"
   ]
  },
  {
   "cell_type": "markdown",
   "metadata": {},
   "source": [
    "### Escribe una función que calcule el factorial de un número n:"
   ]
  },
  {
   "cell_type": "code",
   "execution_count": 39,
   "metadata": {},
   "outputs": [],
   "source": [
    "def factorial_num(num):\n",
    "    lista = range(1, num+1)\n",
    "    prod = 1\n",
    "    for a in lista:\n",
    "        prod *= a\n",
    "    print(f'El factorial de {num} es {prod}')"
   ]
  },
  {
   "cell_type": "code",
   "execution_count": 40,
   "metadata": {},
   "outputs": [
    {
     "name": "stdout",
     "output_type": "stream",
     "text": [
      "El factorial de 5 es 120\n"
     ]
    }
   ],
   "source": [
    "factorial_num(5)"
   ]
  },
  {
   "cell_type": "markdown",
   "metadata": {},
   "source": [
    "### Escribe una función que invierta los caracteres de una variable str (sin usar slices)"
   ]
  },
  {
   "cell_type": "code",
   "execution_count": 2,
   "metadata": {},
   "outputs": [],
   "source": [
    "def invertir_string(word):\n",
    "    temp = \"\"\n",
    "    for letter in word:\n",
    "        temp = letter + temp\n",
    "    #print(f\"La palabra {word} invertida es {temp}\")\n",
    "    return temp"
   ]
  },
  {
   "cell_type": "code",
   "execution_count": 3,
   "metadata": {},
   "outputs": [
    {
     "data": {
      "text/plain": [
       "'soñeus atam odeiM ,aírudibas atam ojonE ,zap atam aidivnE ,nóicibma atam arejolF'"
      ]
     },
     "execution_count": 3,
     "metadata": {},
     "output_type": "execute_result"
    }
   ],
   "source": [
    "vari = 'Flojera mata ambición, Envidia mata paz, Enojo mata sabiduría, Miedo mata sueños'\n",
    "invertir_string(vari)"
   ]
  },
  {
   "cell_type": "code",
   "execution_count": 43,
   "metadata": {},
   "outputs": [
    {
     "data": {
      "text/plain": [
       "'aloH'"
      ]
     },
     "execution_count": 43,
     "metadata": {},
     "output_type": "execute_result"
    }
   ],
   "source": [
    "'Hola'[::-1]"
   ]
  },
  {
   "cell_type": "code",
   "execution_count": 44,
   "metadata": {},
   "outputs": [
    {
     "data": {
      "text/plain": [
       "'ANITALAVALATINA'"
      ]
     },
     "execution_count": 44,
     "metadata": {},
     "output_type": "execute_result"
    }
   ],
   "source": [
    "invertir_string(\"ANITALAVALATINA\")"
   ]
  },
  {
   "cell_type": "markdown",
   "metadata": {},
   "source": [
    "### Escribe una función que compruebe si una palabra/oración es un palíndromo"
   ]
  },
  {
   "cell_type": "code",
   "execution_count": 1,
   "metadata": {},
   "outputs": [],
   "source": [
    "def palindromo(word):\n",
    "    word_inverted = invertir_string(word)\n",
    "    if word_inverted == word:\n",
    "        print(f'{word} es un palíndromo')\n",
    "    else:\n",
    "        print(f'{word} no es un palíndromo')"
   ]
  },
  {
   "cell_type": "code",
   "execution_count": 46,
   "metadata": {},
   "outputs": [
    {
     "name": "stdout",
     "output_type": "stream",
     "text": [
      "anitalavalatina es un palíndromo\n"
     ]
    }
   ],
   "source": [
    "palindromo(\"anitalavalatina\")"
   ]
  },
  {
   "cell_type": "code",
   "execution_count": 47,
   "metadata": {},
   "outputs": [
    {
     "data": {
      "text/plain": [
       "4"
      ]
     },
     "execution_count": 47,
     "metadata": {},
     "output_type": "execute_result"
    }
   ],
   "source": [
    "len(\"AMOR\")"
   ]
  },
  {
   "cell_type": "markdown",
   "metadata": {},
   "source": [
    "### Escribe una función que calcule el tamaño de una palabra (sin usar la función len)"
   ]
  },
  {
   "cell_type": "code",
   "execution_count": 48,
   "metadata": {},
   "outputs": [],
   "source": [
    "def length(word):\n",
    "    i = 0\n",
    "    for a in word:\n",
    "        i += 1\n",
    "    return i"
   ]
  },
  {
   "cell_type": "code",
   "execution_count": 49,
   "metadata": {},
   "outputs": [
    {
     "name": "stdout",
     "output_type": "stream",
     "text": [
      "La palabra Hater tiene 5 letras\n"
     ]
    }
   ],
   "source": [
    "word = \"Hater\"\n",
    "print(f'La palabra {word} tiene {length(word)} letras')"
   ]
  },
  {
   "cell_type": "markdown",
   "metadata": {},
   "source": [
    "### Escribe una función que calcule el tamaño de los elementos de una lista"
   ]
  },
  {
   "cell_type": "code",
   "execution_count": 50,
   "metadata": {},
   "outputs": [],
   "source": [
    "def length_lista(lista):\n",
    "    temp = []\n",
    "    for elemento in lista:\n",
    "        temp.append(length(elemento))\n",
    "\n",
    "    return temp "
   ]
  },
  {
   "cell_type": "code",
   "execution_count": 51,
   "metadata": {},
   "outputs": [],
   "source": [
    "palabras = [\"Amor\", \"Odio\", \"Tristeza\", \"Amsiedad\", \"Alegría\"]"
   ]
  },
  {
   "cell_type": "code",
   "execution_count": 52,
   "metadata": {},
   "outputs": [],
   "source": [
    "def length_lista2(lista):\n",
    "    return [length(elemento) for elemento in lista]"
   ]
  },
  {
   "cell_type": "code",
   "execution_count": 53,
   "metadata": {},
   "outputs": [
    {
     "data": {
      "text/plain": [
       "[4, 4, 8, 8, 7]"
      ]
     },
     "execution_count": 53,
     "metadata": {},
     "output_type": "execute_result"
    }
   ],
   "source": [
    "length_lista2(palabras)"
   ]
  },
  {
   "cell_type": "code",
   "execution_count": 54,
   "metadata": {},
   "outputs": [
    {
     "data": {
      "text/plain": [
       "['h', 'n', 'o', 'p', 't', 'y']"
      ]
     },
     "execution_count": 54,
     "metadata": {},
     "output_type": "execute_result"
    }
   ],
   "source": [
    "sorted(\"python\")"
   ]
  },
  {
   "cell_type": "markdown",
   "metadata": {},
   "source": [
    "### Escribir una función que verifique que dos palabras son un anagrama"
   ]
  },
  {
   "cell_type": "code",
   "execution_count": 1,
   "metadata": {},
   "outputs": [],
   "source": [
    "def es_anagrama(word1, word2):\n",
    "    return sorted(word1) == sorted(word2)"
   ]
  },
  {
   "cell_type": "code",
   "execution_count": 2,
   "metadata": {},
   "outputs": [
    {
     "data": {
      "text/plain": [
       "True"
      ]
     },
     "execution_count": 2,
     "metadata": {},
     "output_type": "execute_result"
    }
   ],
   "source": [
    "es_anagrama('amor', 'omar')"
   ]
  },
  {
   "cell_type": "code",
   "execution_count": null,
   "metadata": {},
   "outputs": [],
   "source": []
  },
  {
   "cell_type": "code",
   "execution_count": null,
   "metadata": {},
   "outputs": [],
   "source": []
  },
  {
   "cell_type": "code",
   "execution_count": null,
   "metadata": {},
   "outputs": [],
   "source": []
  }
 ],
 "metadata": {
  "kernelspec": {
   "display_name": "Python 3 (ipykernel)",
   "language": "python",
   "name": "python3"
  },
  "language_info": {
   "codemirror_mode": {
    "name": "ipython",
    "version": 3
   },
   "file_extension": ".py",
   "mimetype": "text/x-python",
   "name": "python",
   "nbconvert_exporter": "python",
   "pygments_lexer": "ipython3",
   "version": "3.12.4"
  }
 },
 "nbformat": 4,
 "nbformat_minor": 4
}
