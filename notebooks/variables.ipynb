{
 "cells": [
  {
   "cell_type": "markdown",
   "metadata": {},
   "source": [
    "# Variables en Python\n",
    "\n",
    "## Declaración de variables\n",
    "\n",
    "Los nombres de las variables pueden tener cualquier letra (a-z, A-Z), número (0-9) y también guines bajos:"
   ]
  },
  {
   "cell_type": "code",
   "execution_count": 1,
   "metadata": {},
   "outputs": [
    {
     "name": "stdout",
     "output_type": "stream",
     "text": [
      "50\n",
      "51\n"
     ]
    }
   ],
   "source": [
    "var1 = 50\n",
    "print(var1)\n",
    "\n",
    "VaR_2 = 51 \n",
    "print(VaR_2)"
   ]
  },
  {
   "cell_type": "markdown",
   "metadata": {},
   "source": [
    "Pueden iniciar con un guión bajo:"
   ]
  },
  {
   "cell_type": "code",
   "execution_count": 2,
   "metadata": {},
   "outputs": [
    {
     "name": "stdout",
     "output_type": "stream",
     "text": [
      "52\n"
     ]
    }
   ],
   "source": [
    "_var3 = 52\n",
    "print(_var3)"
   ]
  },
  {
   "cell_type": "markdown",
   "metadata": {},
   "source": [
    "Pero no pueden iniciar con un número:"
   ]
  },
  {
   "cell_type": "code",
   "execution_count": 3,
   "metadata": {},
   "outputs": [
    {
     "ename": "SyntaxError",
     "evalue": "invalid decimal literal (77409301.py, line 1)",
     "output_type": "error",
     "traceback": [
      "\u001b[0;36m  Cell \u001b[0;32mIn[3], line 1\u001b[0;36m\u001b[0m\n\u001b[0;31m    4var = 53\u001b[0m\n\u001b[0m    ^\u001b[0m\n\u001b[0;31mSyntaxError\u001b[0m\u001b[0;31m:\u001b[0m invalid decimal literal\n"
     ]
    }
   ],
   "source": [
    "4var = 53"
   ]
  },
  {
   "cell_type": "markdown",
   "metadata": {},
   "source": [
    "## Tipos de variables\n",
    "### Variables de tipo entero (int)\n",
    "\n",
    "Las variables declaradas anteriormente son de tipo entero:"
   ]
  },
  {
   "cell_type": "code",
   "execution_count": 4,
   "metadata": {},
   "outputs": [
    {
     "name": "stdout",
     "output_type": "stream",
     "text": [
      "<class 'int'>\n",
      "<class 'int'>\n",
      "<class 'int'>\n"
     ]
    }
   ],
   "source": [
    "print(type(var1))\n",
    "print(type(VaR_2))\n",
    "print(type(_var3))"
   ]
  },
  {
   "cell_type": "code",
   "execution_count": 5,
   "metadata": {},
   "outputs": [
    {
     "name": "stdout",
     "output_type": "stream",
     "text": [
      "<class 'int'>\n",
      "<class 'int'>\n"
     ]
    }
   ],
   "source": [
    "var5 = 100\n",
    "var6 = 1500\n",
    "print(type(var5))\n",
    "print(type(var6))"
   ]
  },
  {
   "cell_type": "markdown",
   "metadata": {},
   "source": [
    "### Variables de punto flotante\n",
    "Los números con decimales o expresados con notación científica son de tipo float:"
   ]
  },
  {
   "cell_type": "code",
   "execution_count": 6,
   "metadata": {},
   "outputs": [
    {
     "name": "stdout",
     "output_type": "stream",
     "text": [
      "<class 'float'>\n"
     ]
    }
   ],
   "source": [
    "var7 = 50.0\n",
    "print(type(var7))"
   ]
  },
  {
   "cell_type": "code",
   "execution_count": 7,
   "metadata": {},
   "outputs": [
    {
     "name": "stdout",
     "output_type": "stream",
     "text": [
      "1000.0\n",
      "<class 'float'>\n"
     ]
    }
   ],
   "source": [
    "var8 = 1e3\n",
    "print(var8)\n",
    "print(type(var8))"
   ]
  },
  {
   "cell_type": "markdown",
   "metadata": {},
   "source": [
    "### Variables tipo cadena de caracteres\n",
    "El texto, que pueden ser palabras o mensajes completos, son llamados cadenas de caracteres. En Python se les conoce como variables de tipo string, o str. Se definen escribiendo el texto entre comillas simples o comillas dobles:"
   ]
  },
  {
   "cell_type": "code",
   "execution_count": 8,
   "metadata": {},
   "outputs": [
    {
     "name": "stdout",
     "output_type": "stream",
     "text": [
      "Hola\n",
      "<class 'str'>\n",
      "mundo\n",
      "<class 'str'>\n"
     ]
    }
   ],
   "source": [
    "message_1 = 'Hola'\n",
    "print(message_1)\n",
    "print(type(message_1))\n",
    "\n",
    "message_2 = \"mundo\"\n",
    "print(message_2)\n",
    "print(type(message_2))"
   ]
  },
  {
   "cell_type": "markdown",
   "metadata": {},
   "source": [
    "Las cadenas de caracteres se pueden sumar y multiplicar:"
   ]
  },
  {
   "cell_type": "code",
   "execution_count": 9,
   "metadata": {},
   "outputs": [
    {
     "name": "stdout",
     "output_type": "stream",
     "text": [
      "Holamundo\n",
      "Hola mundo\n"
     ]
    }
   ],
   "source": [
    "print(message_1 + message_2)\n",
    "print(message_1 + ' ' + message_2)"
   ]
  },
  {
   "cell_type": "code",
   "execution_count": 10,
   "metadata": {},
   "outputs": [
    {
     "name": "stdout",
     "output_type": "stream",
     "text": [
      "HolaHolaHolaHolaHola\n"
     ]
    }
   ],
   "source": [
    "print(message_1*5)"
   ]
  },
  {
   "cell_type": "markdown",
   "metadata": {},
   "source": [
    "### Comentarios\n",
    "Los comentarios son líneas de código que Python ignora. Sirven para aclarar qué tareas hacen algunos bloques de código de modo que sea más fácil de leer.\n",
    "Para escribir comentarios, se utiliza el símbolo  `#`. Cualquier cosa después de `#` será ignorado por Python:"
   ]
  },
  {
   "cell_type": "code",
   "execution_count": 11,
   "metadata": {},
   "outputs": [],
   "source": [
    "pi = 3.14159265             #- Una variable float\n",
    "num = 5                     #- Una variable int\n",
    "message = \"Hola mundo\"      #- Una variable str"
   ]
  },
  {
   "cell_type": "markdown",
   "metadata": {},
   "source": [
    "### Variables tipo bool\n",
    "Son variables que toman únicamente dos valores: `True`/`False` o en números: `1`/`0`:"
   ]
  },
  {
   "cell_type": "code",
   "execution_count": 12,
   "metadata": {},
   "outputs": [
    {
     "name": "stdout",
     "output_type": "stream",
     "text": [
      "<class 'bool'>\n",
      "<class 'bool'>\n"
     ]
    }
   ],
   "source": [
    "verdad  = True \n",
    "mentira = False\n",
    "\n",
    "print(type(verdad))\n",
    "print(type(mentira))"
   ]
  },
  {
   "cell_type": "markdown",
   "metadata": {},
   "source": [
    "Aparecen al hacer comparaciones:"
   ]
  },
  {
   "cell_type": "code",
   "execution_count": 13,
   "metadata": {},
   "outputs": [
    {
     "data": {
      "text/plain": [
       "False"
      ]
     },
     "execution_count": 13,
     "metadata": {},
     "output_type": "execute_result"
    }
   ],
   "source": [
    "# ¿Es 3 mayor que 5?\n",
    "3 > 5"
   ]
  },
  {
   "cell_type": "code",
   "execution_count": 14,
   "metadata": {},
   "outputs": [
    {
     "data": {
      "text/plain": [
       "True"
      ]
     },
     "execution_count": 14,
     "metadata": {},
     "output_type": "execute_result"
    }
   ],
   "source": [
    "# ¿Es 3 menor que 5?\n",
    "3 < 5"
   ]
  },
  {
   "cell_type": "code",
   "execution_count": 15,
   "metadata": {},
   "outputs": [
    {
     "name": "stdout",
     "output_type": "stream",
     "text": [
      "50\n",
      "50.0\n"
     ]
    },
    {
     "data": {
      "text/plain": [
       "True"
      ]
     },
     "execution_count": 15,
     "metadata": {},
     "output_type": "execute_result"
    }
   ],
   "source": [
    "print(var1)\n",
    "print(var7)\n",
    "\n",
    "# ¿Es 50 igual a 50.0?\n",
    "var1 == var7"
   ]
  },
  {
   "cell_type": "code",
   "execution_count": 16,
   "metadata": {},
   "outputs": [
    {
     "data": {
      "text/plain": [
       "False"
      ]
     },
     "execution_count": 16,
     "metadata": {},
     "output_type": "execute_result"
    }
   ],
   "source": [
    "# ¿Es 10 mayor o igual que 2, y es 6 menor que 3?\n",
    "10 >= 2 and 6 < 3"
   ]
  },
  {
   "cell_type": "code",
   "execution_count": 17,
   "metadata": {},
   "outputs": [
    {
     "data": {
      "text/plain": [
       "True"
      ]
     },
     "execution_count": 17,
     "metadata": {},
     "output_type": "execute_result"
    }
   ],
   "source": [
    "# ¿Es 10 mayor o igual que 2, o es 6 menor que 3?\n",
    "10 >=2 or 6 < 3"
   ]
  },
  {
   "cell_type": "code",
   "execution_count": 18,
   "metadata": {},
   "outputs": [
    {
     "data": {
      "text/plain": [
       "True"
      ]
     },
     "execution_count": 18,
     "metadata": {},
     "output_type": "execute_result"
    }
   ],
   "source": [
    "# ¿Es 5 diferente de 0?\n",
    "5 != 0"
   ]
  },
  {
   "cell_type": "markdown",
   "metadata": {},
   "source": [
    "## Contenedores\n",
    "### Listas\n",
    "Las listas son un objeto de Python que permite almacenar muchas variables en una misma entidad. Se crean con los elementos separados por comas y encerrados entre corchetes:"
   ]
  },
  {
   "cell_type": "code",
   "execution_count": 19,
   "metadata": {},
   "outputs": [
    {
     "name": "stdout",
     "output_type": "stream",
     "text": [
      "[1, 2, 3, 4]\n"
     ]
    }
   ],
   "source": [
    "mi_lista = [1,2,3,4]\n",
    "print(mi_lista)"
   ]
  },
  {
   "cell_type": "markdown",
   "metadata": {},
   "source": [
    "Los elementos de las listas no tienen por qué ser del mismo tipo:"
   ]
  },
  {
   "cell_type": "code",
   "execution_count": 20,
   "metadata": {},
   "outputs": [
    {
     "name": "stdout",
     "output_type": "stream",
     "text": [
      "[0, 5.5, 'Hola', True]\n"
     ]
    }
   ],
   "source": [
    "mi_otra_lista = [0, 5.5, 'Hola', True]\n",
    "print(mi_otra_lista)"
   ]
  },
  {
   "cell_type": "markdown",
   "metadata": {},
   "source": [
    "Las listas pueden contener otras listas:"
   ]
  },
  {
   "cell_type": "code",
   "execution_count": 21,
   "metadata": {},
   "outputs": [
    {
     "name": "stdout",
     "output_type": "stream",
     "text": [
      "[[1, 2, 3, 4], [0, 5.5, 'Hola', True]]\n"
     ]
    }
   ],
   "source": [
    "mi_lista_final = [mi_lista, mi_otra_lista]\n",
    "print(mi_lista_final)"
   ]
  },
  {
   "cell_type": "markdown",
   "metadata": {},
   "source": [
    "Las listas se pueden sumar. A este proceso se le llama 'concatenación':"
   ]
  },
  {
   "cell_type": "code",
   "execution_count": 22,
   "metadata": {},
   "outputs": [
    {
     "data": {
      "text/plain": [
       "[1, 2, 3, 4, 0, 5.5, 'Hola', True]"
      ]
     },
     "execution_count": 22,
     "metadata": {},
     "output_type": "execute_result"
    }
   ],
   "source": [
    "mi_lista + mi_otra_lista"
   ]
  },
  {
   "cell_type": "markdown",
   "metadata": {},
   "source": [
    "Creemos una lista con variables de tipo str:"
   ]
  },
  {
   "cell_type": "code",
   "execution_count": 23,
   "metadata": {},
   "outputs": [],
   "source": [
    "astronomers = ['Carl Sagan', 'Stephen Hawking', 'Jocelyn Bell']"
   ]
  },
  {
   "cell_type": "markdown",
   "metadata": {},
   "source": [
    "Para acceder a sus elementos, lo hacemos mediante índices, que representan su posición en la lista.\n",
    "Al primer elemento le corresponde el índice `0`, al segundo el índice `1` y así sucesivamente:"
   ]
  },
  {
   "cell_type": "code",
   "execution_count": 24,
   "metadata": {},
   "outputs": [
    {
     "data": {
      "text/plain": [
       "'Carl Sagan'"
      ]
     },
     "execution_count": 24,
     "metadata": {},
     "output_type": "execute_result"
    }
   ],
   "source": [
    "astronomers[0]"
   ]
  },
  {
   "cell_type": "code",
   "execution_count": 25,
   "metadata": {},
   "outputs": [
    {
     "data": {
      "text/plain": [
       "'Stephen Hawking'"
      ]
     },
     "execution_count": 25,
     "metadata": {},
     "output_type": "execute_result"
    }
   ],
   "source": [
    "astronomers[1]"
   ]
  },
  {
   "cell_type": "code",
   "execution_count": 26,
   "metadata": {},
   "outputs": [
    {
     "data": {
      "text/plain": [
       "'Jocelyn Bell'"
      ]
     },
     "execution_count": 26,
     "metadata": {},
     "output_type": "execute_result"
    }
   ],
   "source": [
    "astronomers[2]"
   ]
  },
  {
   "cell_type": "markdown",
   "metadata": {},
   "source": [
    "Al último elemento le corresponde el índice `-1`, al penúltimo el índice `-2` y así sucesivamente:"
   ]
  },
  {
   "cell_type": "code",
   "execution_count": 27,
   "metadata": {},
   "outputs": [
    {
     "data": {
      "text/plain": [
       "'Jocelyn Bell'"
      ]
     },
     "execution_count": 27,
     "metadata": {},
     "output_type": "execute_result"
    }
   ],
   "source": [
    "astronomers[-1]"
   ]
  },
  {
   "cell_type": "code",
   "execution_count": 28,
   "metadata": {},
   "outputs": [
    {
     "data": {
      "text/plain": [
       "'Stephen Hawking'"
      ]
     },
     "execution_count": 28,
     "metadata": {},
     "output_type": "execute_result"
    }
   ],
   "source": [
    "astronomers[-2]"
   ]
  },
  {
   "cell_type": "code",
   "execution_count": 29,
   "metadata": {},
   "outputs": [
    {
     "data": {
      "text/plain": [
       "'Carl Sagan'"
      ]
     },
     "execution_count": 29,
     "metadata": {},
     "output_type": "execute_result"
    }
   ],
   "source": [
    "astronomers[-3]"
   ]
  },
  {
   "cell_type": "markdown",
   "metadata": {},
   "source": [
    "Los elementos de una lista se pueden reemplazar:"
   ]
  },
  {
   "cell_type": "code",
   "execution_count": 30,
   "metadata": {},
   "outputs": [
    {
     "name": "stdout",
     "output_type": "stream",
     "text": [
      "La lista inicial tiene estos elementos: \n",
      "['Carl Sagan', 'Stephen Hawking', 'Jocelyn Bell']\n",
      "\n",
      "La lista final tiene estos elementos: \n",
      "['Johannes Kepler', 'Stephen Hawking', 'Jocelyn Bell']\n"
     ]
    }
   ],
   "source": [
    "#- Muestra la lista inicial\n",
    "print(f'La lista inicial tiene estos elementos: \\n{astronomers}\\n')\n",
    "\n",
    "#- Asigna un nuevo valor al primer elemento\n",
    "astronomers[0] = 'Johannes Kepler'\n",
    "\n",
    "#- Muestra la lista final\n",
    "print(f'La lista final tiene estos elementos: \\n{astronomers}')"
   ]
  },
  {
   "cell_type": "markdown",
   "metadata": {},
   "source": [
    "Se pueden agregar elementos al final de una lista con el método `list.append()`:"
   ]
  },
  {
   "cell_type": "code",
   "execution_count": 31,
   "metadata": {},
   "outputs": [
    {
     "name": "stdout",
     "output_type": "stream",
     "text": [
      "La lista inicial tiene estos elementos: \n",
      "['Johannes Kepler', 'Stephen Hawking', 'Jocelyn Bell']\n",
      "\n",
      "La lista final tiene estos elementos: \n",
      "['Johannes Kepler', 'Stephen Hawking', 'Jocelyn Bell', 'Carl Sagan']\n"
     ]
    }
   ],
   "source": [
    "#- Muestra la lista inicial\n",
    "print(f'La lista inicial tiene estos elementos: \\n{astronomers}\\n')\n",
    "\n",
    "#- Agrega un elemento al final\n",
    "astronomers.append('Carl Sagan')\n",
    "\n",
    "#- Muestra la lista final\n",
    "print(f'La lista final tiene estos elementos: \\n{astronomers}')"
   ]
  },
  {
   "cell_type": "markdown",
   "metadata": {},
   "source": [
    "Se puede agregar más de un solo elemento al final de una lista usando el método `list.extend()`:"
   ]
  },
  {
   "cell_type": "code",
   "execution_count": 32,
   "metadata": {},
   "outputs": [
    {
     "name": "stdout",
     "output_type": "stream",
     "text": [
      "La lista inicial tiene estos elementos: \n",
      "['Johannes Kepler', 'Stephen Hawking', 'Jocelyn Bell', 'Carl Sagan']\n",
      "\n",
      "La lista final tiene estos elementos: \n",
      "['Johannes Kepler', 'Stephen Hawking', 'Jocelyn Bell', 'Carl Sagan', 'Henrietta Leavitt', 'Vera Rubin']\n"
     ]
    }
   ],
   "source": [
    "#- Muestra la lista inicial\n",
    "print(f'La lista inicial tiene estos elementos: \\n{astronomers}\\n')\n",
    "\n",
    "#- Agrega varios elementos al final\n",
    "astronomers.extend(['Henrietta Leavitt', 'Vera Rubin'])\n",
    "\n",
    "#- Muestra la lista final\n",
    "print(f'La lista final tiene estos elementos: \\n{astronomers}')"
   ]
  },
  {
   "cell_type": "markdown",
   "metadata": {},
   "source": [
    "Las variables str pueden convertirse a listas usando la función `list()`:"
   ]
  },
  {
   "cell_type": "code",
   "execution_count": 33,
   "metadata": {},
   "outputs": [
    {
     "name": "stdout",
     "output_type": "stream",
     "text": [
      "['J', 'o', 'c', 'e', 'l', 'y', 'n', ' ', 'B', 'e', 'l', 'l']\n"
     ]
    }
   ],
   "source": [
    "letters = list(astronomers[2])\n",
    "print(letters)"
   ]
  },
  {
   "cell_type": "markdown",
   "metadata": {},
   "source": [
    "Las variables str también admiten acceder a sus elementos mediante índices:"
   ]
  },
  {
   "cell_type": "code",
   "execution_count": 34,
   "metadata": {},
   "outputs": [
    {
     "name": "stdout",
     "output_type": "stream",
     "text": [
      "Jocelyn Bell\n",
      "<class 'str'>\n"
     ]
    },
    {
     "data": {
      "text/plain": [
       "'J'"
      ]
     },
     "execution_count": 34,
     "metadata": {},
     "output_type": "execute_result"
    }
   ],
   "source": [
    "name = astronomers[2]\n",
    "print(name)\n",
    "print(type(name))\n",
    "\n",
    "name[0]"
   ]
  },
  {
   "cell_type": "markdown",
   "metadata": {},
   "source": [
    "Se pueden seleccionar porciones de una lista. Esto se conoce como `slicing`. Por ejemplo, para seleccionar los primeros tres elementos de la lista `astronomers` se hace de las iguiente manera:"
   ]
  },
  {
   "cell_type": "code",
   "execution_count": 35,
   "metadata": {},
   "outputs": [
    {
     "name": "stdout",
     "output_type": "stream",
     "text": [
      "['Johannes Kepler', 'Stephen Hawking', 'Jocelyn Bell']\n"
     ]
    }
   ],
   "source": [
    "new_astronomers = astronomers[0:3]\n",
    "print(new_astronomers)"
   ]
  },
  {
   "cell_type": "markdown",
   "metadata": {},
   "source": [
    "Puedes invertir todos los elementos de una lista usando slicing de la siguiente manera:"
   ]
  },
  {
   "cell_type": "code",
   "execution_count": 36,
   "metadata": {},
   "outputs": [
    {
     "name": "stdout",
     "output_type": "stream",
     "text": [
      "La lista normal es: \n",
      "['Johannes Kepler', 'Stephen Hawking', 'Jocelyn Bell']\n",
      "\n",
      "la lista invertida es:\n"
     ]
    },
    {
     "data": {
      "text/plain": [
       "['Jocelyn Bell', 'Stephen Hawking', 'Johannes Kepler']"
      ]
     },
     "execution_count": 36,
     "metadata": {},
     "output_type": "execute_result"
    }
   ],
   "source": [
    "print(f'La lista normal es: \\n{new_astronomers}\\n')\n",
    "print('la lista invertida es:')\n",
    "new_astronomers[::-1]"
   ]
  },
  {
   "cell_type": "markdown",
   "metadata": {},
   "source": [
    "También puedes seleccionar los elementos con una separación dada. Por ejemplo:"
   ]
  },
  {
   "cell_type": "code",
   "execution_count": 37,
   "metadata": {},
   "outputs": [
    {
     "name": "stdout",
     "output_type": "stream",
     "text": [
      "['Johannes Kepler', 'Stephen Hawking', 'Jocelyn Bell', 'Carl Sagan', 'Henrietta Leavitt', 'Vera Rubin']\n"
     ]
    },
    {
     "data": {
      "text/plain": [
       "['Johannes Kepler', 'Jocelyn Bell', 'Henrietta Leavitt']"
      ]
     },
     "execution_count": 37,
     "metadata": {},
     "output_type": "execute_result"
    }
   ],
   "source": [
    "print(astronomers)\n",
    "astronomers[::2]"
   ]
  },
  {
   "cell_type": "markdown",
   "metadata": {},
   "source": [
    "### Tuplas\n",
    "Las tuplas son similares a las listas, excepto que sus valores no pueden ser modificados. Existen dos formas de definir una tupla:\n",
    "1. Escribiendo los elementos separados por comas\n",
    "2. Escribiendo los elementos separados por comas y encerrándolos entre paréntesis"
   ]
  },
  {
   "cell_type": "code",
   "execution_count": 38,
   "metadata": {},
   "outputs": [
    {
     "name": "stdout",
     "output_type": "stream",
     "text": [
      "('Mercurio', 'Venus', 'Tierra')\n",
      "<class 'tuple'>\n"
     ]
    }
   ],
   "source": [
    "planets_1 = 'Mercurio', 'Venus', 'Tierra'\n",
    "print(planets_1)\n",
    "print(type(planets_1))"
   ]
  },
  {
   "cell_type": "code",
   "execution_count": 39,
   "metadata": {},
   "outputs": [
    {
     "name": "stdout",
     "output_type": "stream",
     "text": [
      "('Marte', 'Júpiter', 'Saturno')\n",
      "<class 'tuple'>\n"
     ]
    }
   ],
   "source": [
    "planets_2 = ('Marte', 'Júpiter', 'Saturno')\n",
    "print(planets_2)\n",
    "print(type(planets_2))"
   ]
  },
  {
   "cell_type": "markdown",
   "metadata": {},
   "source": [
    "Se pueden transformar listas en tuplas usando la función `tuple`:"
   ]
  },
  {
   "cell_type": "code",
   "execution_count": 40,
   "metadata": {},
   "outputs": [
    {
     "data": {
      "text/plain": [
       "('Johannes Kepler',\n",
       " 'Stephen Hawking',\n",
       " 'Jocelyn Bell',\n",
       " 'Carl Sagan',\n",
       " 'Henrietta Leavitt',\n",
       " 'Vera Rubin')"
      ]
     },
     "execution_count": 40,
     "metadata": {},
     "output_type": "execute_result"
    }
   ],
   "source": [
    "tuple(astronomers)"
   ]
  },
  {
   "cell_type": "markdown",
   "metadata": {},
   "source": [
    "Los elementos de la lista también pueden ser accedidos mediante índices:"
   ]
  },
  {
   "cell_type": "code",
   "execution_count": 41,
   "metadata": {},
   "outputs": [
    {
     "data": {
      "text/plain": [
       "'Mercurio'"
      ]
     },
     "execution_count": 41,
     "metadata": {},
     "output_type": "execute_result"
    }
   ],
   "source": [
    "planets_1[0]"
   ]
  },
  {
   "cell_type": "code",
   "execution_count": 42,
   "metadata": {},
   "outputs": [
    {
     "data": {
      "text/plain": [
       "('Marte', 'Júpiter')"
      ]
     },
     "execution_count": 42,
     "metadata": {},
     "output_type": "execute_result"
    }
   ],
   "source": [
    "planets_2[0:2]"
   ]
  },
  {
   "cell_type": "markdown",
   "metadata": {},
   "source": [
    "Las tuplas se pueden sumar:"
   ]
  },
  {
   "cell_type": "code",
   "execution_count": 43,
   "metadata": {},
   "outputs": [
    {
     "data": {
      "text/plain": [
       "('Mercurio', 'Venus', 'Tierra', 'Marte', 'Júpiter', 'Saturno')"
      ]
     },
     "execution_count": 43,
     "metadata": {},
     "output_type": "execute_result"
    }
   ],
   "source": [
    "planets_1 + planets_2"
   ]
  },
  {
   "cell_type": "markdown",
   "metadata": {},
   "source": [
    "Pero no se pueden modificar:"
   ]
  },
  {
   "cell_type": "code",
   "execution_count": 44,
   "metadata": {},
   "outputs": [
    {
     "ename": "TypeError",
     "evalue": "'tuple' object does not support item assignment",
     "output_type": "error",
     "traceback": [
      "\u001b[0;31m---------------------------------------------------------------------------\u001b[0m",
      "\u001b[0;31mTypeError\u001b[0m                                 Traceback (most recent call last)",
      "Cell \u001b[0;32mIn[44], line 1\u001b[0m\n\u001b[0;32m----> 1\u001b[0m planets_1[\u001b[38;5;241m0\u001b[39m] \u001b[38;5;241m=\u001b[39m \u001b[38;5;124m'\u001b[39m\u001b[38;5;124mUrano\u001b[39m\u001b[38;5;124m'\u001b[39m\n",
      "\u001b[0;31mTypeError\u001b[0m: 'tuple' object does not support item assignment"
     ]
    }
   ],
   "source": [
    "planets_1[0] = 'Urano'"
   ]
  },
  {
   "cell_type": "markdown",
   "metadata": {},
   "source": [
    "### Conjuntos\n",
    "Los conjuntos son contenedores no ordenados. Esto significa que no se puede accedder a sus elementos mediante índices.\n",
    "para definirlos se escriben sus elementos separados por comas y encerrados entre llaves:"
   ]
  },
  {
   "cell_type": "code",
   "execution_count": 43,
   "metadata": {},
   "outputs": [
    {
     "name": "stdout",
     "output_type": "stream",
     "text": [
      "{1, 2, 3, 4, 5}\n",
      "<class 'set'>\n"
     ]
    }
   ],
   "source": [
    "my_set = {1,2,3,4,5,5,5}\n",
    "print(my_set)\n",
    "print(type(my_set))"
   ]
  },
  {
   "cell_type": "markdown",
   "metadata": {},
   "source": [
    "Las listas, tuplas y cadenas de caracteres pueden ser transformadas a conjuntos con la función `set()`:\n"
   ]
  },
  {
   "cell_type": "code",
   "execution_count": 44,
   "metadata": {},
   "outputs": [
    {
     "data": {
      "text/plain": [
       "{'Carl Sagan',\n",
       " 'Henrietta Leavitt',\n",
       " 'Jocelyn Bell',\n",
       " 'Johannes Kepler',\n",
       " 'Stephen Hawking',\n",
       " 'Vera Rubin'}"
      ]
     },
     "execution_count": 44,
     "metadata": {},
     "output_type": "execute_result"
    }
   ],
   "source": [
    "set(astronomers)"
   ]
  },
  {
   "cell_type": "markdown",
   "metadata": {},
   "source": [
    "En los conjuntos no existen elementos repetidos:"
   ]
  },
  {
   "cell_type": "code",
   "execution_count": 45,
   "metadata": {},
   "outputs": [
    {
     "name": "stdout",
     "output_type": "stream",
     "text": [
      "{1, 2, 3, 4, 5}\n"
     ]
    }
   ],
   "source": [
    "my_set = {1,2,3,4,5,5,5}\n",
    "print(my_set)"
   ]
  },
  {
   "cell_type": "markdown",
   "metadata": {},
   "source": [
    "Para añadir elementos, se usa el método `set.add()`:"
   ]
  },
  {
   "cell_type": "code",
   "execution_count": 46,
   "metadata": {},
   "outputs": [
    {
     "name": "stdout",
     "output_type": "stream",
     "text": [
      "{1, 2, 3, 4, 5, 6}\n"
     ]
    }
   ],
   "source": [
    "my_set.add(6)\n",
    "print(my_set)"
   ]
  },
  {
   "cell_type": "markdown",
   "metadata": {},
   "source": [
    "Para eliminar un elemento se usa el método `set.remove()`:"
   ]
  },
  {
   "cell_type": "code",
   "execution_count": 47,
   "metadata": {},
   "outputs": [
    {
     "name": "stdout",
     "output_type": "stream",
     "text": [
      "{1, 2, 4, 5, 6}\n"
     ]
    }
   ],
   "source": [
    "#- Eliminar un elemento con remove()\n",
    "my_set.remove(3)\n",
    "print(my_set)"
   ]
  },
  {
   "cell_type": "markdown",
   "metadata": {},
   "source": [
    "El método `set.remove()` genera un error si se intenta eliminar un elemento que no existe:"
   ]
  },
  {
   "cell_type": "code",
   "execution_count": 48,
   "metadata": {},
   "outputs": [
    {
     "ename": "KeyError",
     "evalue": "3",
     "output_type": "error",
     "traceback": [
      "\u001b[0;31m---------------------------------------------------------------------------\u001b[0m",
      "\u001b[0;31mKeyError\u001b[0m                                  Traceback (most recent call last)",
      "Cell \u001b[0;32mIn[48], line 2\u001b[0m\n\u001b[1;32m      1\u001b[0m \u001b[38;5;66;03m#- Eliminar un elemento que no existe en el conjunto con remove()\u001b[39;00m\n\u001b[0;32m----> 2\u001b[0m my_set\u001b[38;5;241m.\u001b[39mremove(\u001b[38;5;241m3\u001b[39m)\n",
      "\u001b[0;31mKeyError\u001b[0m: 3"
     ]
    }
   ],
   "source": [
    "#- Eliminar un elemento que no existe en el conjunto con remove()\n",
    "my_set.remove(3)"
   ]
  },
  {
   "cell_type": "markdown",
   "metadata": {},
   "source": [
    "Otra opción para eliminar elementos es el método `set.discard()`"
   ]
  },
  {
   "cell_type": "code",
   "execution_count": 49,
   "metadata": {},
   "outputs": [
    {
     "name": "stdout",
     "output_type": "stream",
     "text": [
      "{1, 4, 5, 6}\n"
     ]
    }
   ],
   "source": [
    "#- Eliminar un elemento con discard()\n",
    "my_set.discard(2)\n",
    "print(my_set)"
   ]
  },
  {
   "cell_type": "markdown",
   "metadata": {},
   "source": [
    "El método `set.discard()` no genera errores si se intenta eliminar un elemento que no existe:"
   ]
  },
  {
   "cell_type": "code",
   "execution_count": 45,
   "metadata": {},
   "outputs": [
    {
     "ename": "NameError",
     "evalue": "name 'my_set' is not defined",
     "output_type": "error",
     "traceback": [
      "\u001b[0;31m---------------------------------------------------------------------------\u001b[0m",
      "\u001b[0;31mNameError\u001b[0m                                 Traceback (most recent call last)",
      "Cell \u001b[0;32mIn[45], line 2\u001b[0m\n\u001b[1;32m      1\u001b[0m \u001b[38;5;66;03m#- Eliminar un elemento que no existe en el conjunto con discard()\u001b[39;00m\n\u001b[0;32m----> 2\u001b[0m my_set\u001b[38;5;241m.\u001b[39mdiscard(\u001b[38;5;241m3\u001b[39m)\n",
      "\u001b[0;31mNameError\u001b[0m: name 'my_set' is not defined"
     ]
    }
   ],
   "source": [
    "#- Eliminar un elemento que no existe en el conjunto con discard()\n",
    "my_set.discard(3)"
   ]
  },
  {
   "cell_type": "markdown",
   "metadata": {},
   "source": [
    "Puedes combrobar si un elemento está en un conjunto usando la palabra clave `in`. La sintaxis para listas y tuplas es la misma:\n"
   ]
  },
  {
   "cell_type": "code",
   "execution_count": 46,
   "metadata": {},
   "outputs": [
    {
     "ename": "NameError",
     "evalue": "name 'my_set' is not defined",
     "output_type": "error",
     "traceback": [
      "\u001b[0;31m---------------------------------------------------------------------------\u001b[0m",
      "\u001b[0;31mNameError\u001b[0m                                 Traceback (most recent call last)",
      "Cell \u001b[0;32mIn[46], line 1\u001b[0m\n\u001b[0;32m----> 1\u001b[0m \u001b[38;5;241m2\u001b[39m \u001b[38;5;129;01min\u001b[39;00m my_set\n",
      "\u001b[0;31mNameError\u001b[0m: name 'my_set' is not defined"
     ]
    }
   ],
   "source": [
    "2 in my_set"
   ]
  },
  {
   "cell_type": "code",
   "execution_count": 47,
   "metadata": {},
   "outputs": [
    {
     "ename": "NameError",
     "evalue": "name 'my_set' is not defined",
     "output_type": "error",
     "traceback": [
      "\u001b[0;31m---------------------------------------------------------------------------\u001b[0m",
      "\u001b[0;31mNameError\u001b[0m                                 Traceback (most recent call last)",
      "Cell \u001b[0;32mIn[47], line 1\u001b[0m\n\u001b[0;32m----> 1\u001b[0m \u001b[38;5;241m6\u001b[39m \u001b[38;5;129;01min\u001b[39;00m my_set\n",
      "\u001b[0;31mNameError\u001b[0m: name 'my_set' is not defined"
     ]
    }
   ],
   "source": [
    "6 in my_set"
   ]
  },
  {
   "cell_type": "code",
   "execution_count": 48,
   "metadata": {},
   "outputs": [
    {
     "data": {
      "text/plain": [
       "True"
      ]
     },
     "execution_count": 48,
     "metadata": {},
     "output_type": "execute_result"
    }
   ],
   "source": [
    "'Jocelyn Bell' in astronomers"
   ]
  },
  {
   "cell_type": "code",
   "execution_count": 49,
   "metadata": {},
   "outputs": [
    {
     "data": {
      "text/plain": [
       "True"
      ]
     },
     "execution_count": 49,
     "metadata": {},
     "output_type": "execute_result"
    }
   ],
   "source": [
    "'Marte' in planets_2"
   ]
  },
  {
   "cell_type": "markdown",
   "metadata": {},
   "source": [
    "Otras operaciones que admiten los conjuntos son:\n",
    "* Unión: combina todos los elementos de dos conjuntos, eliminando los duplicados, mediante el operador `|`.\n",
    "* Intersección: Devuelve los elementos comunes en ambos conjuntos, mediante el operador `&`.\n",
    "* Diferencia: Devuelve los elementos que están en el primer elemento pero no en el segundo, mediante el operador `-`.\n",
    "* Diferencia simétrica: Devuelve los elementos que están en un set o en otro, pero no en ambos, mediante el operador `^`"
   ]
  },
  {
   "cell_type": "code",
   "execution_count": 50,
   "metadata": {},
   "outputs": [
    {
     "ename": "NameError",
     "evalue": "name 'my_set' is not defined",
     "output_type": "error",
     "traceback": [
      "\u001b[0;31m---------------------------------------------------------------------------\u001b[0m",
      "\u001b[0;31mNameError\u001b[0m                                 Traceback (most recent call last)",
      "Cell \u001b[0;32mIn[50], line 3\u001b[0m\n\u001b[1;32m      1\u001b[0m my_set_2 \u001b[38;5;241m=\u001b[39m {\u001b[38;5;241m1\u001b[39m, \u001b[38;5;241m9\u001b[39m, \u001b[38;5;241m34\u001b[39m}\n\u001b[0;32m----> 3\u001b[0m \u001b[38;5;28mprint\u001b[39m(\u001b[38;5;124mf\u001b[39m\u001b[38;5;124m'\u001b[39m\u001b[38;5;124mLos elementos del primer conjunto son \u001b[39m\u001b[38;5;132;01m{\u001b[39;00mmy_set\u001b[38;5;132;01m}\u001b[39;00m\u001b[38;5;124m'\u001b[39m)\n\u001b[1;32m      4\u001b[0m \u001b[38;5;28mprint\u001b[39m(\u001b[38;5;124mf\u001b[39m\u001b[38;5;124m'\u001b[39m\u001b[38;5;124mLos elementos del primer conjunto son \u001b[39m\u001b[38;5;132;01m{\u001b[39;00mmy_set_2\u001b[38;5;132;01m}\u001b[39;00m\u001b[38;5;124m'\u001b[39m)\n\u001b[1;32m      6\u001b[0m \u001b[38;5;28mprint\u001b[39m(\u001b[38;5;124mf\u001b[39m\u001b[38;5;124m'\u001b[39m\u001b[38;5;130;01m\\n\u001b[39;00m\u001b[38;5;124mLa unión de ambos conjuntos es:\u001b[39m\u001b[38;5;124m'\u001b[39m)\n",
      "\u001b[0;31mNameError\u001b[0m: name 'my_set' is not defined"
     ]
    }
   ],
   "source": [
    "my_set_2 = {1, 9, 34}\n",
    "\n",
    "print(f'Los elementos del primer conjunto son {my_set}')\n",
    "print(f'Los elementos del primer conjunto son {my_set_2}')\n",
    "\n",
    "print(f'\\nLa unión de ambos conjuntos es:')\n",
    "my_set | my_set_2"
   ]
  },
  {
   "cell_type": "markdown",
   "metadata": {},
   "source": [
    "### Diccionarios\n",
    "Los diccionarios son una versión mejorada de los conjuntos. Se definen a partir de pares clave-valor. A cada clave le corresponde un valor. Para definirlos se encierran sus pares clave-valor entre llaves, o se usa la función `dict()`:"
   ]
  },
  {
   "cell_type": "code",
   "execution_count": 51,
   "metadata": {},
   "outputs": [
    {
     "name": "stdout",
     "output_type": "stream",
     "text": [
      "{'first_name': 'Stephen', 'last_name': 'Hawking', 'birthday': (8, 1, 1942)}\n",
      "<class 'dict'>\n"
     ]
    }
   ],
   "source": [
    "#- Sintaxis para crear un diccionario\n",
    "stephen = {# Clave      :  Valor\n",
    "            \"first_name\": \"Stephen\",\n",
    "            \"last_name\" : \"Hawking\",\n",
    "            \"birthday\"  : (8, 1, 1942)\n",
    "            }\n",
    "print(stephen)\n",
    "print(type(stephen))"
   ]
  },
  {
   "cell_type": "code",
   "execution_count": 52,
   "metadata": {},
   "outputs": [
    {
     "name": "stdout",
     "output_type": "stream",
     "text": [
      "{'first_name': 'Albert', 'last_name': 'Einstein', 'birthday': (14, 3, 1879)}\n",
      "<class 'dict'>\n"
     ]
    }
   ],
   "source": [
    "#- Otra sintaxis equivalente para crear un diccionario\n",
    "albert = dict(# Clave     = Valor\n",
    "               first_name = \"Albert\",\n",
    "               last_name  ='Einstein',\n",
    "               birthday   = (14, 3, 1879)\n",
    "              )\n",
    "\n",
    "print(albert)\n",
    "print(type(albert))"
   ]
  },
  {
   "cell_type": "markdown",
   "metadata": {},
   "source": [
    "Para acceder a sus elementos, se hace mediante sus claves. Por ejemplo:"
   ]
  },
  {
   "cell_type": "code",
   "execution_count": 53,
   "metadata": {},
   "outputs": [
    {
     "data": {
      "text/plain": [
       "'Stephen'"
      ]
     },
     "execution_count": 53,
     "metadata": {},
     "output_type": "execute_result"
    }
   ],
   "source": [
    "stephen['first_name']"
   ]
  },
  {
   "cell_type": "markdown",
   "metadata": {},
   "source": [
    "Para añadir elementos, se define una nueva clave con su correspondiente valor:"
   ]
  },
  {
   "cell_type": "code",
   "execution_count": 54,
   "metadata": {},
   "outputs": [
    {
     "name": "stdout",
     "output_type": "stream",
     "text": [
      "{'first_name': 'Stephen', 'last_name': 'Hawking', 'birthday': (8, 1, 1942), 'nationality': 'British'}\n"
     ]
    }
   ],
   "source": [
    "stephen['nationality'] = \"British\"\n",
    "print(stephen)"
   ]
  },
  {
   "cell_type": "markdown",
   "metadata": {},
   "source": [
    "Puedes obtener las claves de un diccionario usando el método `dict.keys()`:"
   ]
  },
  {
   "cell_type": "code",
   "execution_count": 55,
   "metadata": {},
   "outputs": [
    {
     "data": {
      "text/plain": [
       "dict_keys(['first_name', 'last_name', 'birthday'])"
      ]
     },
     "execution_count": 55,
     "metadata": {},
     "output_type": "execute_result"
    }
   ],
   "source": [
    "albert.keys()"
   ]
  },
  {
   "cell_type": "markdown",
   "metadata": {},
   "source": [
    "Sus valores se obtienen con el método `dict.values()`:"
   ]
  },
  {
   "cell_type": "code",
   "execution_count": 56,
   "metadata": {},
   "outputs": [
    {
     "data": {
      "text/plain": [
       "dict_values(['Albert', 'Einstein', (14, 3, 1879)])"
      ]
     },
     "execution_count": 56,
     "metadata": {},
     "output_type": "execute_result"
    }
   ],
   "source": [
    "albert.values()"
   ]
  },
  {
   "cell_type": "markdown",
   "metadata": {},
   "source": [
    "Y sus pares clave-valor se obtienen con el método `dict.items()`:"
   ]
  },
  {
   "cell_type": "code",
   "execution_count": 57,
   "metadata": {},
   "outputs": [
    {
     "data": {
      "text/plain": [
       "dict_items([('first_name', 'Albert'), ('last_name', 'Einstein'), ('birthday', (14, 3, 1879))])"
      ]
     },
     "execution_count": 57,
     "metadata": {},
     "output_type": "execute_result"
    }
   ],
   "source": [
    "albert.items()"
   ]
  },
  {
   "cell_type": "markdown",
   "metadata": {},
   "source": [
    "## Ejercicios\n",
    "\n",
    "1. Crea una lista con los números 1, 2, 3, 4, 5.\n",
    "    * Accede al primer elemento de la lista\n",
    "    * Accede al último elemento de la lista"
   ]
  },
  {
   "cell_type": "code",
   "execution_count": null,
   "metadata": {},
   "outputs": [],
   "source": []
  },
  {
   "cell_type": "markdown",
   "metadata": {},
   "source": [
    "2. Crea una lista vacía.\n",
    "    * Agrega los elementos 'manzana', 'banana' y 'cereza' a la lista usando el método append().\n",
    "    * Elimina el primer elemento de la lista usando el método remove().\n",
    "    * Muestra la lista actualizada."
   ]
  },
  {
   "cell_type": "code",
   "execution_count": null,
   "metadata": {},
   "outputs": [],
   "source": []
  },
  {
   "cell_type": "markdown",
   "metadata": {},
   "source": [
    "3. Crea dos listas: `lista1 = [1, 2, 3]` y `lista2 = [4, 5, 6]`\n",
    "    * Concaténalas en una sola lista y muestra el resultado"
   ]
  },
  {
   "cell_type": "code",
   "execution_count": null,
   "metadata": {},
   "outputs": [],
   "source": []
  },
  {
   "cell_type": "markdown",
   "metadata": {},
   "source": [
    "4. Define la lista `numeros = [0, 1, 2, 3, 4, 5, 6, 7, 8, 9]` y:\n",
    "    * Muestra los primeros 5 elementos usando slicing\n",
    "    * Muestra los últimos 3 elementos usando slicing\n",
    "    * Muestra todos los elementos en posiciones impares"
   ]
  },
  {
   "cell_type": "markdown",
   "metadata": {},
   "source": [
    "5. Crea una lista con los números desordenados: [10, 3, 7, 2, 9].\n",
    "    * Ordena la lista en orden ascendente con el método `list.sort()`\n",
    "    * Ordena la lista en orden descendente\n",
    "    * Muestra cuántos elementos tiene la lista con la función `len()`\n",
    "    * Elimina el tercer elemento usando el método `list.pop()`\n",
    "    * Agrega el elemento `23` en la posición 2 usando el método `list.insert()`"
   ]
  },
  {
   "cell_type": "code",
   "execution_count": null,
   "metadata": {},
   "outputs": [],
   "source": []
  },
  {
   "cell_type": "markdown",
   "metadata": {},
   "source": [
    "6. Crea una lista con elementos repetidos y elimina sus elementos duplicados (¿te servirían las propiedades de los conjuntos?)"
   ]
  },
  {
   "cell_type": "code",
   "execution_count": null,
   "metadata": {},
   "outputs": [],
   "source": []
  },
  {
   "cell_type": "markdown",
   "metadata": {},
   "source": [
    "7. Crea un set con los elementos 10, 20, 30 y:\n",
    "    * Agrega el número 40 al set\n",
    "    * Elimina el número 20 del set\n",
    "    * Muestra el set actualizado "
   ]
  },
  {
   "cell_type": "code",
   "execution_count": null,
   "metadata": {},
   "outputs": [],
   "source": []
  },
  {
   "cell_type": "markdown",
   "metadata": {},
   "source": [
    "8. Define los sets `A = {1, 2, 3, 4, 5}` y `B = {4, 5, 6, 7, 8}`\n",
    "    * Muestra la unión de ambos sets\n",
    "    * Muestra la intersección de ambos sets"
   ]
  },
  {
   "cell_type": "code",
   "execution_count": null,
   "metadata": {},
   "outputs": [],
   "source": []
  },
  {
   "cell_type": "markdown",
   "metadata": {},
   "source": [
    "9. Usando los dos sets anteriores:\n",
    "    * Muestra la diferencia de `A` y `B`\n",
    "    * Muestra la diferencia simétrica de `A` y `B`"
   ]
  },
  {
   "cell_type": "code",
   "execution_count": null,
   "metadata": {},
   "outputs": [],
   "source": []
  },
  {
   "cell_type": "markdown",
   "metadata": {},
   "source": [
    "10. Define el siguiente diccionario: `personas = {'Ana': 28, 'Carlos': 35, 'Luis': 22}` y:\n",
    "    * Accede a edad de Carlos e imprímela\n",
    "    * Agrega un nuevo par clave-valor: `(Marta, 40)`\n",
    "    * Muestra el diccionario actualizado\n",
    "    * Muestra todas las claves del diccionario\n",
    "    * Muestra todos los valores del diccionario\n",
    "    * Muestra todos los pares clave-valor del diccionario\n",
    "    * Cambia la edad de Luis a 23\n",
    "    * Muestra el diccionario actualizado"
   ]
  },
  {
   "cell_type": "code",
   "execution_count": null,
   "metadata": {},
   "outputs": [],
   "source": []
  },
  {
   "cell_type": "markdown",
   "metadata": {},
   "source": [
    "11. Crea un diccionario donde las claves sean nombres de asignaturas y los valores sean conjuntos de estudiantes inscritos en esas asignaturas. Puedes usar este diccionario:\n",
    "```py\n",
    "asignaturas = {\n",
    "               'Matemáticas': {'Ana', 'Luis', 'Carlos'},\n",
    "               'Historia': {'Marta', 'Ana', 'Luis'}\n",
    "              }\n",
    "```\n",
    "\n",
    "* Muestra los estudiantes inscritos en Matemáticas\n",
    "* Muestra la unión de los estudiantes inscritos en Matemáticas e Historia\n",
    "* Muestra la intersección de estudiantes inscritos en ambas asignaturas"
   ]
  },
  {
   "cell_type": "code",
   "execution_count": null,
   "metadata": {},
   "outputs": [],
   "source": []
  }
 ],
 "metadata": {
  "kernelspec": {
   "display_name": "base",
   "language": "python",
   "name": "python3"
  },
  "language_info": {
   "codemirror_mode": {
    "name": "ipython",
    "version": 3
   },
   "file_extension": ".py",
   "mimetype": "text/x-python",
   "name": "python",
   "nbconvert_exporter": "python",
   "pygments_lexer": "ipython3",
   "version": "3.12.4"
  }
 },
 "nbformat": 4,
 "nbformat_minor": 2
}
